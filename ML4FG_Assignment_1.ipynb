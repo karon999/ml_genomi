{
  "nbformat": 4,
  "nbformat_minor": 0,
  "metadata": {
    "colab": {
      "provenance": [],
      "gpuType": "T4",
      "collapsed_sections": [
        "StedZT9KsGTv",
        "NvP8XO-Hq3eg"
      ],
      "include_colab_link": true
    },
    "kernelspec": {
      "name": "python3",
      "display_name": "Python 3"
    },
    "accelerator": "GPU"
  },
  "cells": [
    {
      "cell_type": "markdown",
      "metadata": {
        "id": "view-in-github",
        "colab_type": "text"
      },
      "source": [
        "<a href=\"https://colab.research.google.com/github/karon999/ml_genomi/blob/main/ML4FG_Assignment_1.ipynb\" target=\"_parent\"><img src=\"https://colab.research.google.com/assets/colab-badge.svg\" alt=\"Open In Colab\"/></a>"
      ]
    },
    {
      "cell_type": "markdown",
      "metadata": {
        "id": "Mjnx2bas78Kv"
      },
      "source": [
        "## Intro\n",
        "\n",
        "This assignment implements from scratch:\n",
        "*   (L2 and L1 regularized) linear regression\n",
        "*   binary classification using logistic regression\n",
        "*   (single and multitask) dense neural networks\n",
        "\n",
        "These models are applied to the [Genomics of Drug Sensitivity in Cancer](https://www.cancerrxgene.org/) data, where almost a thousand cancer cell lines were screened against 266 drugs.\n",
        "\n",
        "## Notes on Colab\n",
        "\n",
        "Some useful things to know about Colab:\n",
        "* You can get docs on a function with `?function`\n",
        "* If an error happens, executing `%debug` will put you into `pdb`, the Python debugger (type `exit` to exit).\n",
        "* If you disconnect (this includes Reloading the page!) you'll lose the instance you're on. 😞\n",
        "* There's version history like Google docs under `File` -> `Revision History`.\n",
        "\n"
      ]
    },
    {
      "cell_type": "markdown",
      "metadata": {
        "id": "nxkmjd5k7ayx"
      },
      "source": [
        "## Setup\n",
        "\n",
        "Before you do anything else go to the \"Runtime\" menu -> \"Change runtime type\" and choose \"GPU\". The following assertion should then pass:"
      ]
    },
    {
      "cell_type": "code",
      "metadata": {
        "id": "-Cp-0j1f7kn4"
      },
      "source": [
        "import torch\n",
        "assert(torch.cuda.is_available())\n",
        "device = \"cuda\""
      ],
      "execution_count": null,
      "outputs": []
    },
    {
      "cell_type": "markdown",
      "metadata": {
        "id": "JaeDHCesmqWD"
      },
      "source": [
        "I've put some preprocessed data in Google Drive. To use this you need to mount your Google Drive (annoyingly you'll need to explicitly give Colab access). Be sure to use your Columbia google account (please email me if you don't have one letting me know what Google account to use instead)."
      ]
    },
    {
      "cell_type": "code",
      "metadata": {
        "id": "SAjpBVFpmv56",
        "colab": {
          "base_uri": "https://localhost:8080/"
        },
        "outputId": "cda068a4-4c50-403f-f685-c732be0e2c59"
      },
      "source": [
        " from google.colab import drive\n",
        " drive.mount('/content/drive')"
      ],
      "execution_count": null,
      "outputs": [
        {
          "output_type": "stream",
          "name": "stdout",
          "text": [
            "Mounted at /content/drive\n"
          ]
        }
      ]
    },
    {
      "cell_type": "markdown",
      "metadata": {
        "id": "LoxBSdwZ0ydS"
      },
      "source": [
        "## Load data\n",
        "\n",
        "First let's load the gene expression data. We'll use `pandas` to read the data in and take a look at it. *Note you may need to adjust the file path below* (the `Files` tab on the left hand edge of the Colab notebook should help, the Assignment directory might end up in `Shared drives`). Alternatively you can try go to the Assignment 1 gdrive directory, click on \"Assignment 1\" and then do \"Add shortcut to drive\" to have it show up in \"My Drive\"."
      ]
    },
    {
      "cell_type": "code",
      "metadata": {
        "id": "Co0CzLKpaJ0H",
        "colab": {
          "base_uri": "https://localhost:8080/",
          "height": 237
        },
        "outputId": "b6e2d1d4-4528-43b8-b2c8-b48f53a5befd"
      },
      "source": [
        "import pandas as pd\n",
        "from pathlib import Path\n",
        "\n",
        "path_to_assigment_dir = Path(\"/content/drive/MyDrive/ML4fungen/Assignment 1\")\n",
        "\n",
        "express_all = pd.read_csv(path_to_assigment_dir / \"Cell_line_RMA_proc_basalExp.txt.zip\", sep = \"\\t\")\n",
        "express_all.iloc[:6,:8]"
      ],
      "execution_count": null,
      "outputs": [
        {
          "output_type": "execute_result",
          "data": {
            "text/plain": [
              "  GENE_SYMBOLS                                         GENE_title  \\\n",
              "0       TSPAN6       tetraspanin 6 [Source:HGNC Symbol;Acc:11858]   \n",
              "1         TNMD         tenomodulin [Source:HGNC Symbol;Acc:17757]   \n",
              "2         DPM1  dolichyl-phosphate mannosyltransferase polypep...   \n",
              "3        SCYL3  SCY1-like 3 (S. cerevisiae) [Source:HGNC Symbo...   \n",
              "4     C1orf112  chromosome 1 open reading frame 112 [Source:HG...   \n",
              "5          FGR  Gardner-Rasheed feline sarcoma viral (v-fgr) o...   \n",
              "\n",
              "   DATA.906826  DATA.687983  DATA.910927  DATA.1240138  DATA.1240139  \\\n",
              "0     7.632023     7.548671     8.712338      7.797142      7.729268   \n",
              "1     2.964585     2.777716     2.643508      2.817923      2.957739   \n",
              "2    10.379553    11.807341     9.880733      9.883471     10.418840   \n",
              "3     3.614794     4.066887     3.956230      4.063701      4.341500   \n",
              "4     3.380681     3.732485     3.236620      3.558414      3.840373   \n",
              "5     3.324692     3.152404     3.241246      3.101247      3.001802   \n",
              "\n",
              "   DATA.906792  \n",
              "0     7.074533  \n",
              "1     2.889677  \n",
              "2     9.773987  \n",
              "3     4.270903  \n",
              "4     3.815055  \n",
              "5     3.298915  "
            ],
            "text/html": [
              "\n",
              "  <div id=\"df-9d7bfe76-73da-4d3e-b4b7-28fe89a54799\" class=\"colab-df-container\">\n",
              "    <div>\n",
              "<style scoped>\n",
              "    .dataframe tbody tr th:only-of-type {\n",
              "        vertical-align: middle;\n",
              "    }\n",
              "\n",
              "    .dataframe tbody tr th {\n",
              "        vertical-align: top;\n",
              "    }\n",
              "\n",
              "    .dataframe thead th {\n",
              "        text-align: right;\n",
              "    }\n",
              "</style>\n",
              "<table border=\"1\" class=\"dataframe\">\n",
              "  <thead>\n",
              "    <tr style=\"text-align: right;\">\n",
              "      <th></th>\n",
              "      <th>GENE_SYMBOLS</th>\n",
              "      <th>GENE_title</th>\n",
              "      <th>DATA.906826</th>\n",
              "      <th>DATA.687983</th>\n",
              "      <th>DATA.910927</th>\n",
              "      <th>DATA.1240138</th>\n",
              "      <th>DATA.1240139</th>\n",
              "      <th>DATA.906792</th>\n",
              "    </tr>\n",
              "  </thead>\n",
              "  <tbody>\n",
              "    <tr>\n",
              "      <th>0</th>\n",
              "      <td>TSPAN6</td>\n",
              "      <td>tetraspanin 6 [Source:HGNC Symbol;Acc:11858]</td>\n",
              "      <td>7.632023</td>\n",
              "      <td>7.548671</td>\n",
              "      <td>8.712338</td>\n",
              "      <td>7.797142</td>\n",
              "      <td>7.729268</td>\n",
              "      <td>7.074533</td>\n",
              "    </tr>\n",
              "    <tr>\n",
              "      <th>1</th>\n",
              "      <td>TNMD</td>\n",
              "      <td>tenomodulin [Source:HGNC Symbol;Acc:17757]</td>\n",
              "      <td>2.964585</td>\n",
              "      <td>2.777716</td>\n",
              "      <td>2.643508</td>\n",
              "      <td>2.817923</td>\n",
              "      <td>2.957739</td>\n",
              "      <td>2.889677</td>\n",
              "    </tr>\n",
              "    <tr>\n",
              "      <th>2</th>\n",
              "      <td>DPM1</td>\n",
              "      <td>dolichyl-phosphate mannosyltransferase polypep...</td>\n",
              "      <td>10.379553</td>\n",
              "      <td>11.807341</td>\n",
              "      <td>9.880733</td>\n",
              "      <td>9.883471</td>\n",
              "      <td>10.418840</td>\n",
              "      <td>9.773987</td>\n",
              "    </tr>\n",
              "    <tr>\n",
              "      <th>3</th>\n",
              "      <td>SCYL3</td>\n",
              "      <td>SCY1-like 3 (S. cerevisiae) [Source:HGNC Symbo...</td>\n",
              "      <td>3.614794</td>\n",
              "      <td>4.066887</td>\n",
              "      <td>3.956230</td>\n",
              "      <td>4.063701</td>\n",
              "      <td>4.341500</td>\n",
              "      <td>4.270903</td>\n",
              "    </tr>\n",
              "    <tr>\n",
              "      <th>4</th>\n",
              "      <td>C1orf112</td>\n",
              "      <td>chromosome 1 open reading frame 112 [Source:HG...</td>\n",
              "      <td>3.380681</td>\n",
              "      <td>3.732485</td>\n",
              "      <td>3.236620</td>\n",
              "      <td>3.558414</td>\n",
              "      <td>3.840373</td>\n",
              "      <td>3.815055</td>\n",
              "    </tr>\n",
              "    <tr>\n",
              "      <th>5</th>\n",
              "      <td>FGR</td>\n",
              "      <td>Gardner-Rasheed feline sarcoma viral (v-fgr) o...</td>\n",
              "      <td>3.324692</td>\n",
              "      <td>3.152404</td>\n",
              "      <td>3.241246</td>\n",
              "      <td>3.101247</td>\n",
              "      <td>3.001802</td>\n",
              "      <td>3.298915</td>\n",
              "    </tr>\n",
              "  </tbody>\n",
              "</table>\n",
              "</div>\n",
              "    <div class=\"colab-df-buttons\">\n",
              "\n",
              "  <div class=\"colab-df-container\">\n",
              "    <button class=\"colab-df-convert\" onclick=\"convertToInteractive('df-9d7bfe76-73da-4d3e-b4b7-28fe89a54799')\"\n",
              "            title=\"Convert this dataframe to an interactive table.\"\n",
              "            style=\"display:none;\">\n",
              "\n",
              "  <svg xmlns=\"http://www.w3.org/2000/svg\" height=\"24px\" viewBox=\"0 -960 960 960\">\n",
              "    <path d=\"M120-120v-720h720v720H120Zm60-500h600v-160H180v160Zm220 220h160v-160H400v160Zm0 220h160v-160H400v160ZM180-400h160v-160H180v160Zm440 0h160v-160H620v160ZM180-180h160v-160H180v160Zm440 0h160v-160H620v160Z\"/>\n",
              "  </svg>\n",
              "    </button>\n",
              "\n",
              "  <style>\n",
              "    .colab-df-container {\n",
              "      display:flex;\n",
              "      gap: 12px;\n",
              "    }\n",
              "\n",
              "    .colab-df-convert {\n",
              "      background-color: #E8F0FE;\n",
              "      border: none;\n",
              "      border-radius: 50%;\n",
              "      cursor: pointer;\n",
              "      display: none;\n",
              "      fill: #1967D2;\n",
              "      height: 32px;\n",
              "      padding: 0 0 0 0;\n",
              "      width: 32px;\n",
              "    }\n",
              "\n",
              "    .colab-df-convert:hover {\n",
              "      background-color: #E2EBFA;\n",
              "      box-shadow: 0px 1px 2px rgba(60, 64, 67, 0.3), 0px 1px 3px 1px rgba(60, 64, 67, 0.15);\n",
              "      fill: #174EA6;\n",
              "    }\n",
              "\n",
              "    .colab-df-buttons div {\n",
              "      margin-bottom: 4px;\n",
              "    }\n",
              "\n",
              "    [theme=dark] .colab-df-convert {\n",
              "      background-color: #3B4455;\n",
              "      fill: #D2E3FC;\n",
              "    }\n",
              "\n",
              "    [theme=dark] .colab-df-convert:hover {\n",
              "      background-color: #434B5C;\n",
              "      box-shadow: 0px 1px 3px 1px rgba(0, 0, 0, 0.15);\n",
              "      filter: drop-shadow(0px 1px 2px rgba(0, 0, 0, 0.3));\n",
              "      fill: #FFFFFF;\n",
              "    }\n",
              "  </style>\n",
              "\n",
              "    <script>\n",
              "      const buttonEl =\n",
              "        document.querySelector('#df-9d7bfe76-73da-4d3e-b4b7-28fe89a54799 button.colab-df-convert');\n",
              "      buttonEl.style.display =\n",
              "        google.colab.kernel.accessAllowed ? 'block' : 'none';\n",
              "\n",
              "      async function convertToInteractive(key) {\n",
              "        const element = document.querySelector('#df-9d7bfe76-73da-4d3e-b4b7-28fe89a54799');\n",
              "        const dataTable =\n",
              "          await google.colab.kernel.invokeFunction('convertToInteractive',\n",
              "                                                    [key], {});\n",
              "        if (!dataTable) return;\n",
              "\n",
              "        const docLinkHtml = 'Like what you see? Visit the ' +\n",
              "          '<a target=\"_blank\" href=https://colab.research.google.com/notebooks/data_table.ipynb>data table notebook</a>'\n",
              "          + ' to learn more about interactive tables.';\n",
              "        element.innerHTML = '';\n",
              "        dataTable['output_type'] = 'display_data';\n",
              "        await google.colab.output.renderOutput(dataTable, element);\n",
              "        const docLink = document.createElement('div');\n",
              "        docLink.innerHTML = docLinkHtml;\n",
              "        element.appendChild(docLink);\n",
              "      }\n",
              "    </script>\n",
              "  </div>\n",
              "\n",
              "\n",
              "<div id=\"df-30e0a63b-f79c-4be2-8aba-a54b871c1785\">\n",
              "  <button class=\"colab-df-quickchart\" onclick=\"quickchart('df-30e0a63b-f79c-4be2-8aba-a54b871c1785')\"\n",
              "            title=\"Suggest charts\"\n",
              "            style=\"display:none;\">\n",
              "\n",
              "<svg xmlns=\"http://www.w3.org/2000/svg\" height=\"24px\"viewBox=\"0 0 24 24\"\n",
              "     width=\"24px\">\n",
              "    <g>\n",
              "        <path d=\"M19 3H5c-1.1 0-2 .9-2 2v14c0 1.1.9 2 2 2h14c1.1 0 2-.9 2-2V5c0-1.1-.9-2-2-2zM9 17H7v-7h2v7zm4 0h-2V7h2v10zm4 0h-2v-4h2v4z\"/>\n",
              "    </g>\n",
              "</svg>\n",
              "  </button>\n",
              "\n",
              "<style>\n",
              "  .colab-df-quickchart {\n",
              "      --bg-color: #E8F0FE;\n",
              "      --fill-color: #1967D2;\n",
              "      --hover-bg-color: #E2EBFA;\n",
              "      --hover-fill-color: #174EA6;\n",
              "      --disabled-fill-color: #AAA;\n",
              "      --disabled-bg-color: #DDD;\n",
              "  }\n",
              "\n",
              "  [theme=dark] .colab-df-quickchart {\n",
              "      --bg-color: #3B4455;\n",
              "      --fill-color: #D2E3FC;\n",
              "      --hover-bg-color: #434B5C;\n",
              "      --hover-fill-color: #FFFFFF;\n",
              "      --disabled-bg-color: #3B4455;\n",
              "      --disabled-fill-color: #666;\n",
              "  }\n",
              "\n",
              "  .colab-df-quickchart {\n",
              "    background-color: var(--bg-color);\n",
              "    border: none;\n",
              "    border-radius: 50%;\n",
              "    cursor: pointer;\n",
              "    display: none;\n",
              "    fill: var(--fill-color);\n",
              "    height: 32px;\n",
              "    padding: 0;\n",
              "    width: 32px;\n",
              "  }\n",
              "\n",
              "  .colab-df-quickchart:hover {\n",
              "    background-color: var(--hover-bg-color);\n",
              "    box-shadow: 0 1px 2px rgba(60, 64, 67, 0.3), 0 1px 3px 1px rgba(60, 64, 67, 0.15);\n",
              "    fill: var(--button-hover-fill-color);\n",
              "  }\n",
              "\n",
              "  .colab-df-quickchart-complete:disabled,\n",
              "  .colab-df-quickchart-complete:disabled:hover {\n",
              "    background-color: var(--disabled-bg-color);\n",
              "    fill: var(--disabled-fill-color);\n",
              "    box-shadow: none;\n",
              "  }\n",
              "\n",
              "  .colab-df-spinner {\n",
              "    border: 2px solid var(--fill-color);\n",
              "    border-color: transparent;\n",
              "    border-bottom-color: var(--fill-color);\n",
              "    animation:\n",
              "      spin 1s steps(1) infinite;\n",
              "  }\n",
              "\n",
              "  @keyframes spin {\n",
              "    0% {\n",
              "      border-color: transparent;\n",
              "      border-bottom-color: var(--fill-color);\n",
              "      border-left-color: var(--fill-color);\n",
              "    }\n",
              "    20% {\n",
              "      border-color: transparent;\n",
              "      border-left-color: var(--fill-color);\n",
              "      border-top-color: var(--fill-color);\n",
              "    }\n",
              "    30% {\n",
              "      border-color: transparent;\n",
              "      border-left-color: var(--fill-color);\n",
              "      border-top-color: var(--fill-color);\n",
              "      border-right-color: var(--fill-color);\n",
              "    }\n",
              "    40% {\n",
              "      border-color: transparent;\n",
              "      border-right-color: var(--fill-color);\n",
              "      border-top-color: var(--fill-color);\n",
              "    }\n",
              "    60% {\n",
              "      border-color: transparent;\n",
              "      border-right-color: var(--fill-color);\n",
              "    }\n",
              "    80% {\n",
              "      border-color: transparent;\n",
              "      border-right-color: var(--fill-color);\n",
              "      border-bottom-color: var(--fill-color);\n",
              "    }\n",
              "    90% {\n",
              "      border-color: transparent;\n",
              "      border-bottom-color: var(--fill-color);\n",
              "    }\n",
              "  }\n",
              "</style>\n",
              "\n",
              "  <script>\n",
              "    async function quickchart(key) {\n",
              "      const quickchartButtonEl =\n",
              "        document.querySelector('#' + key + ' button');\n",
              "      quickchartButtonEl.disabled = true;  // To prevent multiple clicks.\n",
              "      quickchartButtonEl.classList.add('colab-df-spinner');\n",
              "      try {\n",
              "        const charts = await google.colab.kernel.invokeFunction(\n",
              "            'suggestCharts', [key], {});\n",
              "      } catch (error) {\n",
              "        console.error('Error during call to suggestCharts:', error);\n",
              "      }\n",
              "      quickchartButtonEl.classList.remove('colab-df-spinner');\n",
              "      quickchartButtonEl.classList.add('colab-df-quickchart-complete');\n",
              "    }\n",
              "    (() => {\n",
              "      let quickchartButtonEl =\n",
              "        document.querySelector('#df-30e0a63b-f79c-4be2-8aba-a54b871c1785 button');\n",
              "      quickchartButtonEl.style.display =\n",
              "        google.colab.kernel.accessAllowed ? 'block' : 'none';\n",
              "    })();\n",
              "  </script>\n",
              "</div>\n",
              "\n",
              "    </div>\n",
              "  </div>\n"
            ],
            "application/vnd.google.colaboratory.intrinsic+json": {
              "type": "dataframe",
              "summary": "{\n  \"name\": \"express_all\",\n  \"rows\": 6,\n  \"fields\": [\n    {\n      \"column\": \"GENE_SYMBOLS\",\n      \"properties\": {\n        \"dtype\": \"string\",\n        \"num_unique_values\": 6,\n        \"samples\": [\n          \"TSPAN6\",\n          \"TNMD\",\n          \"FGR\"\n        ],\n        \"semantic_type\": \"\",\n        \"description\": \"\"\n      }\n    },\n    {\n      \"column\": \"GENE_title\",\n      \"properties\": {\n        \"dtype\": \"string\",\n        \"num_unique_values\": 6,\n        \"samples\": [\n          \"tetraspanin 6 [Source:HGNC Symbol;Acc:11858]\",\n          \"tenomodulin [Source:HGNC Symbol;Acc:17757]\",\n          \"Gardner-Rasheed feline sarcoma viral (v-fgr) oncogene homolog [Source:HGNC Symbol;Acc:3697]\"\n        ],\n        \"semantic_type\": \"\",\n        \"description\": \"\"\n      }\n    },\n    {\n      \"column\": \"DATA.906826\",\n      \"properties\": {\n        \"dtype\": \"number\",\n        \"std\": 3.0684723827701674,\n        \"min\": 2.96458512058924,\n        \"max\": 10.3795526353077,\n        \"num_unique_values\": 6,\n        \"samples\": [\n          7.63202317146339,\n          2.96458512058924,\n          3.32469189081249\n        ],\n        \"semantic_type\": \"\",\n        \"description\": \"\"\n      }\n    },\n    {\n      \"column\": \"DATA.687983\",\n      \"properties\": {\n        \"dtype\": \"number\",\n        \"std\": 3.52358758391895,\n        \"min\": 2.77771614989839,\n        \"max\": 11.8073412488458,\n        \"num_unique_values\": 6,\n        \"samples\": [\n          7.54867116637172,\n          2.77771614989839,\n          3.15240438414212\n        ],\n        \"semantic_type\": \"\",\n        \"description\": \"\"\n      }\n    },\n    {\n      \"column\": \"DATA.910927\",\n      \"properties\": {\n        \"dtype\": \"number\",\n        \"std\": 3.161741491247711,\n        \"min\": 2.6435077554121,\n        \"max\": 9.88073281995499,\n        \"num_unique_values\": 6,\n        \"samples\": [\n          8.71233752103624,\n          2.6435077554121,\n          3.24124610651453\n        ],\n        \"semantic_type\": \"\",\n        \"description\": \"\"\n      }\n    },\n    {\n      \"column\": \"DATA.1240138\",\n      \"properties\": {\n        \"dtype\": \"number\",\n        \"std\": 2.9238673768352967,\n        \"min\": 2.8179230218265,\n        \"max\": 9.88347076381233,\n        \"num_unique_values\": 6,\n        \"samples\": [\n          7.79714221650204,\n          2.8179230218265,\n          3.10124650460458\n        ],\n        \"semantic_type\": \"\",\n        \"description\": \"\"\n      }\n    },\n    {\n      \"column\": \"DATA.1240139\",\n      \"properties\": {\n        \"dtype\": \"number\",\n        \"std\": 3.0292261785859336,\n        \"min\": 2.95773930470788,\n        \"max\": 10.4188397800194,\n        \"num_unique_values\": 6,\n        \"samples\": [\n          7.72926756674919,\n          2.95773930470788,\n          3.00180183524658\n        ],\n        \"semantic_type\": \"\",\n        \"description\": \"\"\n      }\n    },\n    {\n      \"column\": \"DATA.906792\",\n      \"properties\": {\n        \"dtype\": \"number\",\n        \"std\": 2.6895075562186546,\n        \"min\": 2.88967694292715,\n        \"max\": 9.77398676657725,\n        \"num_unique_values\": 6,\n        \"samples\": [\n          7.07453348620132,\n          2.88967694292715,\n          3.29891494305773\n        ],\n        \"semantic_type\": \"\",\n        \"description\": \"\"\n      }\n    }\n  ]\n}"
            }
          },
          "metadata": {},
          "execution_count": 3
        }
      ]
    },
    {
      "cell_type": "markdown",
      "metadata": {
        "id": "fmlKx2OA1WKi"
      },
      "source": [
        "The two columns are the gene symbol and gene name. The remaining columns are the expression values for each cell line. The column name is \"DATA.\" followed by the \"COSMIC ID\", a unique identifier for each cell line."
      ]
    },
    {
      "cell_type": "markdown",
      "metadata": {
        "id": "EeU2SJJO1pw8"
      },
      "source": [
        "Next we'll load the drug screen data."
      ]
    },
    {
      "cell_type": "code",
      "metadata": {
        "id": "6dMJz1UO1z9V",
        "colab": {
          "base_uri": "https://localhost:8080/",
          "height": 269
        },
        "outputId": "8f707d47-faeb-4539-d735-03a62977cb10"
      },
      "source": [
        "ic50_all = pd.read_csv(path_to_assigment_dir / \"TableS4A_ic50.txt.gz\", sep = \"\\t\", index_col = 0)\n",
        "ic50_all.iloc[:6,:8]"
      ],
      "execution_count": null,
      "outputs": [
        {
          "output_type": "execute_result",
          "data": {
            "text/plain": [
              "          cell_line  TL-2-105  TAK-715  CP466722  BMS-345541  \\\n",
              "cosmic_id                                                      \n",
              "910944       ALL-PO      1.41     2.11     -0.76        1.39   \n",
              "1295741       AMO-1      3.36     3.05      1.72        2.19   \n",
              "910692     COLO-668      3.40     3.10      3.07        1.23   \n",
              "1297439     COR-L95      3.31     6.10      2.95        2.85   \n",
              "906838        DG-75      3.65     3.11      2.18        1.59   \n",
              "753555     EC-GI-10      5.00     4.00      5.45        3.37   \n",
              "\n",
              "           Genentech Cpd 10  GSK429286A  Ruxolitinib  \n",
              "cosmic_id                                             \n",
              "910944                -1.40        3.68         3.08  \n",
              "1295741                1.54        3.54         2.99  \n",
              "910692                 0.31        3.57         3.73  \n",
              "1297439                3.74        5.22         3.72  \n",
              "906838                 2.44        5.30         4.15  \n",
              "753555                 5.00        5.67         4.33  "
            ],
            "text/html": [
              "\n",
              "  <div id=\"df-9be2de02-5f02-40e6-a48f-ee17948c8a87\" class=\"colab-df-container\">\n",
              "    <div>\n",
              "<style scoped>\n",
              "    .dataframe tbody tr th:only-of-type {\n",
              "        vertical-align: middle;\n",
              "    }\n",
              "\n",
              "    .dataframe tbody tr th {\n",
              "        vertical-align: top;\n",
              "    }\n",
              "\n",
              "    .dataframe thead th {\n",
              "        text-align: right;\n",
              "    }\n",
              "</style>\n",
              "<table border=\"1\" class=\"dataframe\">\n",
              "  <thead>\n",
              "    <tr style=\"text-align: right;\">\n",
              "      <th></th>\n",
              "      <th>cell_line</th>\n",
              "      <th>TL-2-105</th>\n",
              "      <th>TAK-715</th>\n",
              "      <th>CP466722</th>\n",
              "      <th>BMS-345541</th>\n",
              "      <th>Genentech Cpd 10</th>\n",
              "      <th>GSK429286A</th>\n",
              "      <th>Ruxolitinib</th>\n",
              "    </tr>\n",
              "    <tr>\n",
              "      <th>cosmic_id</th>\n",
              "      <th></th>\n",
              "      <th></th>\n",
              "      <th></th>\n",
              "      <th></th>\n",
              "      <th></th>\n",
              "      <th></th>\n",
              "      <th></th>\n",
              "      <th></th>\n",
              "    </tr>\n",
              "  </thead>\n",
              "  <tbody>\n",
              "    <tr>\n",
              "      <th>910944</th>\n",
              "      <td>ALL-PO</td>\n",
              "      <td>1.41</td>\n",
              "      <td>2.11</td>\n",
              "      <td>-0.76</td>\n",
              "      <td>1.39</td>\n",
              "      <td>-1.40</td>\n",
              "      <td>3.68</td>\n",
              "      <td>3.08</td>\n",
              "    </tr>\n",
              "    <tr>\n",
              "      <th>1295741</th>\n",
              "      <td>AMO-1</td>\n",
              "      <td>3.36</td>\n",
              "      <td>3.05</td>\n",
              "      <td>1.72</td>\n",
              "      <td>2.19</td>\n",
              "      <td>1.54</td>\n",
              "      <td>3.54</td>\n",
              "      <td>2.99</td>\n",
              "    </tr>\n",
              "    <tr>\n",
              "      <th>910692</th>\n",
              "      <td>COLO-668</td>\n",
              "      <td>3.40</td>\n",
              "      <td>3.10</td>\n",
              "      <td>3.07</td>\n",
              "      <td>1.23</td>\n",
              "      <td>0.31</td>\n",
              "      <td>3.57</td>\n",
              "      <td>3.73</td>\n",
              "    </tr>\n",
              "    <tr>\n",
              "      <th>1297439</th>\n",
              "      <td>COR-L95</td>\n",
              "      <td>3.31</td>\n",
              "      <td>6.10</td>\n",
              "      <td>2.95</td>\n",
              "      <td>2.85</td>\n",
              "      <td>3.74</td>\n",
              "      <td>5.22</td>\n",
              "      <td>3.72</td>\n",
              "    </tr>\n",
              "    <tr>\n",
              "      <th>906838</th>\n",
              "      <td>DG-75</td>\n",
              "      <td>3.65</td>\n",
              "      <td>3.11</td>\n",
              "      <td>2.18</td>\n",
              "      <td>1.59</td>\n",
              "      <td>2.44</td>\n",
              "      <td>5.30</td>\n",
              "      <td>4.15</td>\n",
              "    </tr>\n",
              "    <tr>\n",
              "      <th>753555</th>\n",
              "      <td>EC-GI-10</td>\n",
              "      <td>5.00</td>\n",
              "      <td>4.00</td>\n",
              "      <td>5.45</td>\n",
              "      <td>3.37</td>\n",
              "      <td>5.00</td>\n",
              "      <td>5.67</td>\n",
              "      <td>4.33</td>\n",
              "    </tr>\n",
              "  </tbody>\n",
              "</table>\n",
              "</div>\n",
              "    <div class=\"colab-df-buttons\">\n",
              "\n",
              "  <div class=\"colab-df-container\">\n",
              "    <button class=\"colab-df-convert\" onclick=\"convertToInteractive('df-9be2de02-5f02-40e6-a48f-ee17948c8a87')\"\n",
              "            title=\"Convert this dataframe to an interactive table.\"\n",
              "            style=\"display:none;\">\n",
              "\n",
              "  <svg xmlns=\"http://www.w3.org/2000/svg\" height=\"24px\" viewBox=\"0 -960 960 960\">\n",
              "    <path d=\"M120-120v-720h720v720H120Zm60-500h600v-160H180v160Zm220 220h160v-160H400v160Zm0 220h160v-160H400v160ZM180-400h160v-160H180v160Zm440 0h160v-160H620v160ZM180-180h160v-160H180v160Zm440 0h160v-160H620v160Z\"/>\n",
              "  </svg>\n",
              "    </button>\n",
              "\n",
              "  <style>\n",
              "    .colab-df-container {\n",
              "      display:flex;\n",
              "      gap: 12px;\n",
              "    }\n",
              "\n",
              "    .colab-df-convert {\n",
              "      background-color: #E8F0FE;\n",
              "      border: none;\n",
              "      border-radius: 50%;\n",
              "      cursor: pointer;\n",
              "      display: none;\n",
              "      fill: #1967D2;\n",
              "      height: 32px;\n",
              "      padding: 0 0 0 0;\n",
              "      width: 32px;\n",
              "    }\n",
              "\n",
              "    .colab-df-convert:hover {\n",
              "      background-color: #E2EBFA;\n",
              "      box-shadow: 0px 1px 2px rgba(60, 64, 67, 0.3), 0px 1px 3px 1px rgba(60, 64, 67, 0.15);\n",
              "      fill: #174EA6;\n",
              "    }\n",
              "\n",
              "    .colab-df-buttons div {\n",
              "      margin-bottom: 4px;\n",
              "    }\n",
              "\n",
              "    [theme=dark] .colab-df-convert {\n",
              "      background-color: #3B4455;\n",
              "      fill: #D2E3FC;\n",
              "    }\n",
              "\n",
              "    [theme=dark] .colab-df-convert:hover {\n",
              "      background-color: #434B5C;\n",
              "      box-shadow: 0px 1px 3px 1px rgba(0, 0, 0, 0.15);\n",
              "      filter: drop-shadow(0px 1px 2px rgba(0, 0, 0, 0.3));\n",
              "      fill: #FFFFFF;\n",
              "    }\n",
              "  </style>\n",
              "\n",
              "    <script>\n",
              "      const buttonEl =\n",
              "        document.querySelector('#df-9be2de02-5f02-40e6-a48f-ee17948c8a87 button.colab-df-convert');\n",
              "      buttonEl.style.display =\n",
              "        google.colab.kernel.accessAllowed ? 'block' : 'none';\n",
              "\n",
              "      async function convertToInteractive(key) {\n",
              "        const element = document.querySelector('#df-9be2de02-5f02-40e6-a48f-ee17948c8a87');\n",
              "        const dataTable =\n",
              "          await google.colab.kernel.invokeFunction('convertToInteractive',\n",
              "                                                    [key], {});\n",
              "        if (!dataTable) return;\n",
              "\n",
              "        const docLinkHtml = 'Like what you see? Visit the ' +\n",
              "          '<a target=\"_blank\" href=https://colab.research.google.com/notebooks/data_table.ipynb>data table notebook</a>'\n",
              "          + ' to learn more about interactive tables.';\n",
              "        element.innerHTML = '';\n",
              "        dataTable['output_type'] = 'display_data';\n",
              "        await google.colab.output.renderOutput(dataTable, element);\n",
              "        const docLink = document.createElement('div');\n",
              "        docLink.innerHTML = docLinkHtml;\n",
              "        element.appendChild(docLink);\n",
              "      }\n",
              "    </script>\n",
              "  </div>\n",
              "\n",
              "\n",
              "<div id=\"df-5ade0e6b-0698-4571-ba69-e913ca1aa575\">\n",
              "  <button class=\"colab-df-quickchart\" onclick=\"quickchart('df-5ade0e6b-0698-4571-ba69-e913ca1aa575')\"\n",
              "            title=\"Suggest charts\"\n",
              "            style=\"display:none;\">\n",
              "\n",
              "<svg xmlns=\"http://www.w3.org/2000/svg\" height=\"24px\"viewBox=\"0 0 24 24\"\n",
              "     width=\"24px\">\n",
              "    <g>\n",
              "        <path d=\"M19 3H5c-1.1 0-2 .9-2 2v14c0 1.1.9 2 2 2h14c1.1 0 2-.9 2-2V5c0-1.1-.9-2-2-2zM9 17H7v-7h2v7zm4 0h-2V7h2v10zm4 0h-2v-4h2v4z\"/>\n",
              "    </g>\n",
              "</svg>\n",
              "  </button>\n",
              "\n",
              "<style>\n",
              "  .colab-df-quickchart {\n",
              "      --bg-color: #E8F0FE;\n",
              "      --fill-color: #1967D2;\n",
              "      --hover-bg-color: #E2EBFA;\n",
              "      --hover-fill-color: #174EA6;\n",
              "      --disabled-fill-color: #AAA;\n",
              "      --disabled-bg-color: #DDD;\n",
              "  }\n",
              "\n",
              "  [theme=dark] .colab-df-quickchart {\n",
              "      --bg-color: #3B4455;\n",
              "      --fill-color: #D2E3FC;\n",
              "      --hover-bg-color: #434B5C;\n",
              "      --hover-fill-color: #FFFFFF;\n",
              "      --disabled-bg-color: #3B4455;\n",
              "      --disabled-fill-color: #666;\n",
              "  }\n",
              "\n",
              "  .colab-df-quickchart {\n",
              "    background-color: var(--bg-color);\n",
              "    border: none;\n",
              "    border-radius: 50%;\n",
              "    cursor: pointer;\n",
              "    display: none;\n",
              "    fill: var(--fill-color);\n",
              "    height: 32px;\n",
              "    padding: 0;\n",
              "    width: 32px;\n",
              "  }\n",
              "\n",
              "  .colab-df-quickchart:hover {\n",
              "    background-color: var(--hover-bg-color);\n",
              "    box-shadow: 0 1px 2px rgba(60, 64, 67, 0.3), 0 1px 3px 1px rgba(60, 64, 67, 0.15);\n",
              "    fill: var(--button-hover-fill-color);\n",
              "  }\n",
              "\n",
              "  .colab-df-quickchart-complete:disabled,\n",
              "  .colab-df-quickchart-complete:disabled:hover {\n",
              "    background-color: var(--disabled-bg-color);\n",
              "    fill: var(--disabled-fill-color);\n",
              "    box-shadow: none;\n",
              "  }\n",
              "\n",
              "  .colab-df-spinner {\n",
              "    border: 2px solid var(--fill-color);\n",
              "    border-color: transparent;\n",
              "    border-bottom-color: var(--fill-color);\n",
              "    animation:\n",
              "      spin 1s steps(1) infinite;\n",
              "  }\n",
              "\n",
              "  @keyframes spin {\n",
              "    0% {\n",
              "      border-color: transparent;\n",
              "      border-bottom-color: var(--fill-color);\n",
              "      border-left-color: var(--fill-color);\n",
              "    }\n",
              "    20% {\n",
              "      border-color: transparent;\n",
              "      border-left-color: var(--fill-color);\n",
              "      border-top-color: var(--fill-color);\n",
              "    }\n",
              "    30% {\n",
              "      border-color: transparent;\n",
              "      border-left-color: var(--fill-color);\n",
              "      border-top-color: var(--fill-color);\n",
              "      border-right-color: var(--fill-color);\n",
              "    }\n",
              "    40% {\n",
              "      border-color: transparent;\n",
              "      border-right-color: var(--fill-color);\n",
              "      border-top-color: var(--fill-color);\n",
              "    }\n",
              "    60% {\n",
              "      border-color: transparent;\n",
              "      border-right-color: var(--fill-color);\n",
              "    }\n",
              "    80% {\n",
              "      border-color: transparent;\n",
              "      border-right-color: var(--fill-color);\n",
              "      border-bottom-color: var(--fill-color);\n",
              "    }\n",
              "    90% {\n",
              "      border-color: transparent;\n",
              "      border-bottom-color: var(--fill-color);\n",
              "    }\n",
              "  }\n",
              "</style>\n",
              "\n",
              "  <script>\n",
              "    async function quickchart(key) {\n",
              "      const quickchartButtonEl =\n",
              "        document.querySelector('#' + key + ' button');\n",
              "      quickchartButtonEl.disabled = true;  // To prevent multiple clicks.\n",
              "      quickchartButtonEl.classList.add('colab-df-spinner');\n",
              "      try {\n",
              "        const charts = await google.colab.kernel.invokeFunction(\n",
              "            'suggestCharts', [key], {});\n",
              "      } catch (error) {\n",
              "        console.error('Error during call to suggestCharts:', error);\n",
              "      }\n",
              "      quickchartButtonEl.classList.remove('colab-df-spinner');\n",
              "      quickchartButtonEl.classList.add('colab-df-quickchart-complete');\n",
              "    }\n",
              "    (() => {\n",
              "      let quickchartButtonEl =\n",
              "        document.querySelector('#df-5ade0e6b-0698-4571-ba69-e913ca1aa575 button');\n",
              "      quickchartButtonEl.style.display =\n",
              "        google.colab.kernel.accessAllowed ? 'block' : 'none';\n",
              "    })();\n",
              "  </script>\n",
              "</div>\n",
              "\n",
              "    </div>\n",
              "  </div>\n"
            ],
            "application/vnd.google.colaboratory.intrinsic+json": {
              "type": "dataframe",
              "summary": "{\n  \"name\": \"ic50_all\",\n  \"rows\": 6,\n  \"fields\": [\n    {\n      \"column\": \"cosmic_id\",\n      \"properties\": {\n        \"dtype\": \"number\",\n        \"std\": 228171,\n        \"min\": 753555,\n        \"max\": 1297439,\n        \"num_unique_values\": 6,\n        \"samples\": [\n          910944,\n          1295741,\n          753555\n        ],\n        \"semantic_type\": \"\",\n        \"description\": \"\"\n      }\n    },\n    {\n      \"column\": \"cell_line\",\n      \"properties\": {\n        \"dtype\": \"string\",\n        \"num_unique_values\": 6,\n        \"samples\": [\n          \"ALL-PO\",\n          \"AMO-1\",\n          \"EC-GI-10\"\n        ],\n        \"semantic_type\": \"\",\n        \"description\": \"\"\n      }\n    },\n    {\n      \"column\": \"TL-2-105\",\n      \"properties\": {\n        \"dtype\": \"number\",\n        \"std\": 1.147183507552301,\n        \"min\": 1.41,\n        \"max\": 5.0,\n        \"num_unique_values\": 6,\n        \"samples\": [\n          1.41,\n          3.36,\n          5.0\n        ],\n        \"semantic_type\": \"\",\n        \"description\": \"\"\n      }\n    },\n    {\n      \"column\": \"TAK-715\",\n      \"properties\": {\n        \"dtype\": \"number\",\n        \"std\": 1.3725802951618775,\n        \"min\": 2.11,\n        \"max\": 6.1,\n        \"num_unique_values\": 6,\n        \"samples\": [\n          2.11,\n          3.05,\n          4.0\n        ],\n        \"semantic_type\": \"\",\n        \"description\": \"\"\n      }\n    },\n    {\n      \"column\": \"CP466722\",\n      \"properties\": {\n        \"dtype\": \"number\",\n        \"std\": 2.02696571258618,\n        \"min\": -0.76,\n        \"max\": 5.45,\n        \"num_unique_values\": 6,\n        \"samples\": [\n          -0.76,\n          1.72,\n          5.45\n        ],\n        \"semantic_type\": \"\",\n        \"description\": \"\"\n      }\n    },\n    {\n      \"column\": \"BMS-345541\",\n      \"properties\": {\n        \"dtype\": \"number\",\n        \"std\": 0.8607593546785691,\n        \"min\": 1.23,\n        \"max\": 3.37,\n        \"num_unique_values\": 6,\n        \"samples\": [\n          1.39,\n          2.19,\n          3.37\n        ],\n        \"semantic_type\": \"\",\n        \"description\": \"\"\n      }\n    },\n    {\n      \"column\": \"Genentech Cpd 10\",\n      \"properties\": {\n        \"dtype\": \"number\",\n        \"std\": 2.3162937349711643,\n        \"min\": -1.4,\n        \"max\": 5.0,\n        \"num_unique_values\": 6,\n        \"samples\": [\n          -1.4,\n          1.54,\n          5.0\n        ],\n        \"semantic_type\": \"\",\n        \"description\": \"\"\n      }\n    },\n    {\n      \"column\": \"GSK429286A\",\n      \"properties\": {\n        \"dtype\": \"number\",\n        \"std\": 0.9986123705756236,\n        \"min\": 3.54,\n        \"max\": 5.67,\n        \"num_unique_values\": 6,\n        \"samples\": [\n          3.68,\n          3.54,\n          5.67\n        ],\n        \"semantic_type\": \"\",\n        \"description\": \"\"\n      }\n    },\n    {\n      \"column\": \"Ruxolitinib\",\n      \"properties\": {\n        \"dtype\": \"number\",\n        \"std\": 0.5445242571884806,\n        \"min\": 2.99,\n        \"max\": 4.33,\n        \"num_unique_values\": 6,\n        \"samples\": [\n          3.08,\n          2.99,\n          4.33\n        ],\n        \"semantic_type\": \"\",\n        \"description\": \"\"\n      }\n    }\n  ]\n}"
            }
          },
          "metadata": {},
          "execution_count": 4
        }
      ]
    },
    {
      "cell_type": "markdown",
      "metadata": {
        "id": "qXPp-gYo2G56"
      },
      "source": [
        "The index is set to be the cosmic_id. The first column is the cell line name. The remaining columns are \"IC50\"s for each cell line, i.e. the concentration of drug required to inhibit growth by 50%.\n",
        "\n",
        "## Data munging\n",
        "\n",
        "We need to do a little data munging: get the common cell lines between the two DataFrame and get the ordering the same."
      ]
    },
    {
      "cell_type": "code",
      "metadata": {
        "id": "Jb9Liqq5_TOR",
        "colab": {
          "base_uri": "https://localhost:8080/"
        },
        "outputId": "7b28953f-0d21-4d24-e86a-d57b4150ab71"
      },
      "source": [
        "common_cell_lines = [\"DATA.%i\" % g for g in ic50_all.index]\n",
        "common_cell_lines = list(set(common_cell_lines).intersection( express_all.columns.tolist() ))\n",
        "common_cell_lines = sorted(common_cell_lines) # required for reproducibility, set order is undefined\n",
        "expression = express_all[common_cell_lines]\n",
        "expression.shape"
      ],
      "execution_count": null,
      "outputs": [
        {
          "output_type": "execute_result",
          "data": {
            "text/plain": [
              "(17737, 962)"
            ]
          },
          "metadata": {},
          "execution_count": 5
        }
      ]
    },
    {
      "cell_type": "code",
      "metadata": {
        "id": "NevhiDM-BTNI",
        "colab": {
          "base_uri": "https://localhost:8080/"
        },
        "outputId": "701a9453-9b5e-4efe-f96a-5a8fdfbf954e"
      },
      "source": [
        "cosmic_ids = [int(g[5:]) for g in common_cell_lines]\n",
        "ic50 = ic50_all.loc[cosmic_ids,:]\n",
        "ic50.shape"
      ],
      "execution_count": null,
      "outputs": [
        {
          "output_type": "execute_result",
          "data": {
            "text/plain": [
              "(962, 266)"
            ]
          },
          "metadata": {},
          "execution_count": 6
        }
      ]
    },
    {
      "cell_type": "markdown",
      "metadata": {
        "id": "6stsHqJF3nPp"
      },
      "source": [
        "Keep in mind that 18% of the IC50s are missing:"
      ]
    },
    {
      "cell_type": "code",
      "metadata": {
        "id": "Djft9zKCGJqV",
        "colab": {
          "base_uri": "https://localhost:8080/"
        },
        "outputId": "266d98fa-252b-471f-94b2-9d44db30940e"
      },
      "source": [
        "import numpy as np\n",
        "np.isnan(ic50.iloc[:,1:]).mean().mean()"
      ],
      "execution_count": null,
      "outputs": [
        {
          "output_type": "execute_result",
          "data": {
            "text/plain": [
              "0.1836661044208214"
            ]
          },
          "metadata": {},
          "execution_count": 7
        }
      ]
    },
    {
      "cell_type": "markdown",
      "metadata": {
        "id": "HhtQxhg54Yxq"
      },
      "source": [
        "For now we'll focus on just one drug: PFI-1, an inhibitor of two related genes BRD2 and BRD4. The IC50 values will be our `y` and gene expression measurements will be our `X`. We'll do as much as possible in `pytorch` to utilize Colab's GPU.\n",
        "\n",
        "We'll filter for non-missing IC50, and normalize both `y` and columns of `X` to have 0 mean and variance 1 (\"Z-transform\")."
      ]
    },
    {
      "cell_type": "code",
      "metadata": {
        "id": "YoCTxf9O4Yd2"
      },
      "source": [
        "y_all = ic50[\"PFI-1\"]\n",
        "is_missing = np.isnan(y_all) # nan values = missing\n",
        "y_unnorm = torch.tensor(y_all[~is_missing].to_numpy(), device = device, dtype = torch.float)\n",
        "y = (y_unnorm - y_unnorm.mean()) / y_unnorm.std() # normalize\n",
        "\n",
        "X_all = expression.to_numpy().transpose() # X should be [N x P]\n",
        "X_unnorm = torch.tensor(X_all[~is_missing,:], device = device, dtype = torch.float)\n",
        "X = (X_unnorm - X_unnorm.mean(0, keepdims=True)) / X_unnorm.std(0, keepdims=True)"
      ],
      "execution_count": null,
      "outputs": []
    },
    {
      "cell_type": "markdown",
      "metadata": {
        "id": "jBblEOWeGHpn"
      },
      "source": [
        "## Training, validation & test split\n",
        "\n",
        "We'll split our data into training (80%), validation (10%, for picking lambda) and test (10%, for assessing final performance). Ideally for this data size we'd use cross-validation but that would be a bit slow to wait for."
      ]
    },
    {
      "cell_type": "code",
      "metadata": {
        "id": "9likQ9maGVKB",
        "colab": {
          "base_uri": "https://localhost:8080/"
        },
        "outputId": "376f6cd7-f9e7-4ce1-e38e-1571d05a65be"
      },
      "source": [
        "N = len(y)\n",
        "print(N)\n",
        "np.random.seed(1234) # for reproducibility\n",
        "rand_perm = np.random.permutation(N)\n",
        "train_idx = rand_perm[:int(np.ceil(0.8 * N))]\n",
        "val_idx = rand_perm[int(np.ceil(0.8 * N)):int(np.ceil(0.9 * N))]\n",
        "test_idx = rand_perm[int(np.ceil(0.9 * N)):]\n",
        "\n",
        "X_train = X[train_idx,:]\n",
        "X_val = X[val_idx,:]\n",
        "X_test = X[test_idx,:]\n",
        "\n",
        "y_train = y[train_idx]\n",
        "y_val = y[val_idx]\n",
        "y_test = y[test_idx]\n",
        "\n",
        "rand_perm[:10]"
      ],
      "execution_count": null,
      "outputs": [
        {
          "output_type": "stream",
          "name": "stdout",
          "text": [
            "916\n"
          ]
        },
        {
          "output_type": "execute_result",
          "data": {
            "text/plain": [
              "array([746, 401,  60, 590,  40, 495, 410, 569, 282, 326])"
            ]
          },
          "metadata": {},
          "execution_count": 9
        }
      ]
    },
    {
      "cell_type": "markdown",
      "metadata": {
        "id": "dkCTMUKgzj57"
      },
      "source": [
        "## Ridge regression\n",
        "\n",
        "We'll first use the analytic solution to ridge regression, which involves solving a big system of linear equations:\n",
        "\n",
        "$ \\hat{\\beta} = (X^T X + N \\lambda I)^{-1} X^T y $\n",
        "\n",
        "Note here we scale $\\lambda$ by $N$ (the number of samples, `X.shape[0]`) to make the choice of $\\lambda$ less dependent on the sample size. We could equivalently have divided the squared error term in the loss by $N$ (indeed that's what we'll do for gradient descent below).\n",
        "\n",
        "Your first **task** is to implement this equation in `pytorch`. [2 points]\n",
        "\n",
        "Useful things to know:\n",
        "*   `@` is used by both `numpy` and `pytorch` to denote matrix multiplication.\n",
        "*   In `pytorch` you need to do `X.transpose(0,1)` for the regular matrix transpose, since it support switching other dimensions.\n",
        "* The identity matrix $I$ can be made with `torch.eye`: you'll get to get the right dimension (from `X.shape`) and pass the appropriate `device`, which you can get from `X.device` (or just hardcode it if you want).\n",
        "* Check the docs for `torch.linalg.solve` using `?torch.linalg.solve` which is letting us calculate `beta` entirely on the GPU:"
      ]
    },
    {
      "cell_type": "code",
      "metadata": {
        "id": "KYcXJL2yQgy-"
      },
      "source": [
        "# ?torch.linalg.solve"
      ],
      "execution_count": null,
      "outputs": []
    },
    {
      "cell_type": "markdown",
      "metadata": {
        "id": "AZUk-P-QP9h9"
      },
      "source": [
        "Note that both inputs to `torch.solve` need to be 2D: you can make `y` a `N x 1` matrix with `y[:,None]`. Also, `torch.solve` returns both the solution $A^{-1} input$ and the LU decomposition it used to do the solve - we don't need the latter so we ignore it by putting it into the dummy variable denoted by an underscore _."
      ]
    },
    {
      "cell_type": "code",
      "metadata": {
        "id": "2-hlYQLt5PmT"
      },
      "source": [
        "def ridge_regression(X, y, lamb):\n",
        "    N = X.shape[0]\n",
        "    I = torch.eye(X.shape[1], device=X.device)\n",
        "    X_T = X.transpose(0, 1)\n",
        "    y_reshaped = y[:, None]\n",
        "    beta = torch.linalg.solve(\n",
        "        X_T @ X + N * lamb * I,\n",
        "        X_T @ y_reshaped\n",
        "    )\n",
        "    return (beta[:,0]) # matrix -> vector"
      ],
      "execution_count": null,
      "outputs": []
    },
    {
      "cell_type": "markdown",
      "metadata": {
        "id": "aEgEwfF4RSGn"
      },
      "source": [
        "If you implemented it correctly, the following assertion should pass (it takes a few seconds to do the matrix solve):"
      ]
    },
    {
      "cell_type": "code",
      "metadata": {
        "id": "aVBtji5MQ_Vr"
      },
      "source": [
        "beta = ridge_regression(X_train, y_train, lamb = 1.)\n",
        "assert( np.abs(beta.std().item() - 0.0018369749886915088 ) < 1e-6 )"
      ],
      "execution_count": null,
      "outputs": []
    },
    {
      "cell_type": "markdown",
      "metadata": {
        "id": "MUuBNa17oQdz"
      },
      "source": [
        "Let's try some different values of the regularization parameter `lambda`."
      ]
    },
    {
      "cell_type": "code",
      "metadata": {
        "id": "cohJ8sRk7IbO",
        "colab": {
          "base_uri": "https://localhost:8080/",
          "height": 479
        },
        "outputId": "f1acbd33-c9be-4d9b-d521-52da329057a6"
      },
      "source": [
        "import matplotlib.pyplot as plt # for plotting\n",
        "import seaborn as sns\n",
        "sns.set() # nice default plot formatting\n",
        "\n",
        "lambdas = 10 ** np.arange(-2, 5, step = 0.5)\n",
        "val_rmse = np.zeros_like(lambdas)\n",
        "\n",
        "for i,lamb in enumerate(lambdas): # try different settings of lambda\n",
        "    beta = ridge_regression( X_train, y_train, lamb )\n",
        "    pred_val = X_val @ beta # make predictions on the validation set\n",
        "    val_rmse[i] = np.sqrt(torch.mean((y_val - pred_val)**2).item()) # item() gets the scalar value\n",
        "\n",
        "plt.plot(np.log10(lambdas), val_rmse)\n",
        "plt.xlabel(\"log10(lambda)\")\n",
        "plt.ylabel(\"Validation RMSE\")"
      ],
      "execution_count": null,
      "outputs": [
        {
          "output_type": "execute_result",
          "data": {
            "text/plain": [
              "Text(0, 0.5, 'Validation RMSE')"
            ]
          },
          "metadata": {},
          "execution_count": 13
        },
        {
          "output_type": "display_data",
          "data": {
            "text/plain": [
              "<Figure size 640x480 with 1 Axes>"
            ],
            "image/png": "[encoded data removed]"
          },
          "metadata": {}
        }
      ]
    },
    {
      "cell_type": "markdown",
      "metadata": {
        "id": "MPN83c1_TBiz"
      },
      "source": [
        "The left hand side here corresponds to overfitting the data, and the right hand side to underfitting, with the optimal `lambda` in between. We can extract the optimal `lambda` as:"
      ]
    },
    {
      "cell_type": "code",
      "metadata": {
        "id": "yv7s0fHCQ9TL",
        "colab": {
          "base_uri": "https://localhost:8080/"
        },
        "outputId": "064f89e1-1ba8-45dc-81dd-f162d08b95b7"
      },
      "source": [
        "optimal_lamb = lambdas[np.argmin(val_rmse)]\n",
        "optimal_lamb"
      ],
      "execution_count": null,
      "outputs": [
        {
          "output_type": "execute_result",
          "data": {
            "text/plain": [
              "31.622776601683793"
            ]
          },
          "metadata": {},
          "execution_count": 14
        }
      ]
    },
    {
      "cell_type": "markdown",
      "metadata": {
        "id": "22Cl5Odh5KlQ"
      },
      "source": [
        "## Gradient descent for ridge regression\n",
        "\n",
        "The other way we could fit ridge regression is using gradient descent (GD).\n",
        "\n",
        "I've implemented the loss function, **you'll need to implement the gradient** for the loss,\n",
        "\n",
        "$ \\frac1{2N} \\sum_{i=1}^N (y_i - X_i \\beta)^2 + \\frac{\\lambda}{2} | \\beta |^2_2 $\n",
        "\n",
        "THE N HERE IS FOR THE TRAINING DATA, WHICH IS NOT THE THE N FROM THE CODE ABOVE. What is the gradient wrt $\\beta$? (we did this in lecture 1 although without the $\\frac1N$ factor) [1 point]\n",
        "\n",
        "$ grad = - \\frac{1}{N} X^T (y - X \\beta) + \\lambda \\beta $\n",
        "\n",
        "A correct implementation will result in the assertion passing. Note that it's possible to write the expression you need in terms of `err = y - X @ beta`, which is already calculated and therefore saves some computation. [2 points]"
      ]
    },
    {
      "cell_type": "code",
      "metadata": {
        "id": "j2Y8dhvzVWfs",
        "colab": {
          "base_uri": "https://localhost:8080/",
          "height": 458
        },
        "outputId": "3c789c78-49f9-4f7c-a65d-19a7ad8d092c"
      },
      "source": [
        "def ridge_regression_gd(X, y, lamb, learning_rate = 0.001, iterations = 300):\n",
        "    beta = torch.zeros(X.shape[1], device=device)\n",
        "    losses = []\n",
        "    for k in range(iterations): # in practice we would use an appropriate \"stopping criteria\"\n",
        "        err = y - X @ beta\n",
        "        loss = .5 * (err * err).mean() + .5 * lamb * (beta * beta).sum()\n",
        "        if np.isnan(loss.item()):\n",
        "            print(\"Warning: GD diverged on iteration %i\" % k)\n",
        "            break\n",
        "        losses.append(loss.item())\n",
        "        grad = -(X.T @ err) / X.shape[0] + lamb * beta\n",
        "        beta -= learning_rate * grad\n",
        "    return(beta,losses)\n",
        "\n",
        "beta,losses = ridge_regression_gd(X_train, y_train, lamb = optimal_lamb)\n",
        "\n",
        "_ = plt.plot(losses)\n",
        "_ = plt.xlabel(\"Iteration\")\n",
        "_ = plt.ylabel(\"Loss\")\n",
        "\n",
        "assert( np.abs(losses[-1] - 0.2930864095687866 ) < 1e-6 )"
      ],
      "execution_count": null,
      "outputs": [
        {
          "output_type": "display_data",
          "data": {
            "text/plain": [
              "<Figure size 640x480 with 1 Axes>"
            ],
            "image/png": "[encoded data removed]"
          },
          "metadata": {}
        }
      ]
    },
    {
      "cell_type": "markdown",
      "metadata": {
        "id": "jsEwpUSETbiv"
      },
      "source": [
        "Try playing around with the learning rate. **Find a value that's too small so that the algorithm doesn't converge in 300 iterations**: [1 point]"
      ]
    },
    {
      "cell_type": "code",
      "metadata": {
        "id": "WHA6FjFaTrYI",
        "colab": {
          "base_uri": "https://localhost:8080/",
          "height": 458
        },
        "outputId": "66fdd03b-7ac5-4fe2-d535-84c5e35e1f24"
      },
      "source": [
        "_,losses = ridge_regression_gd(X_train, y_train, lamb = optimal_lamb, learning_rate = 0.000001 )\n",
        "\n",
        "_ = plt.plot(losses)\n",
        "_ = plt.xlabel(\"Iteration\")\n",
        "_ = plt.ylabel(\"Loss\")"
      ],
      "execution_count": null,
      "outputs": [
        {
          "output_type": "display_data",
          "data": {
            "text/plain": [
              "<Figure size 640x480 with 1 Axes>"
            ],
            "image/png": "[encoded data removed]"
          },
          "metadata": {}
        }
      ]
    },
    {
      "cell_type": "markdown",
      "metadata": {
        "id": "s8m4dVtVT8NB"
      },
      "source": [
        "**Now find a learning rate that's too big so the optimization will diverge and end up giving `nan` values.** [1 point]"
      ]
    },
    {
      "cell_type": "code",
      "metadata": {
        "id": "4wG3shpjUDaD",
        "colab": {
          "base_uri": "https://localhost:8080/",
          "height": 491
        },
        "outputId": "0f52375c-3fb2-41e5-d30b-a4be24fb4504"
      },
      "source": [
        "_,losses = ridge_regression_gd (X_train, y_train, lamb = optimal_lamb, learning_rate = 0.1)\n",
        "\n",
        "_ = plt.plot(losses)\n",
        "_ = plt.xlabel(\"Iteration\")\n",
        "_ = plt.ylabel(\"Loss\")"
      ],
      "execution_count": null,
      "outputs": [
        {
          "output_type": "stream",
          "name": "stdout",
          "text": [
            "Warning: GD diverged on iteration 18\n"
          ]
        },
        {
          "output_type": "display_data",
          "data": {
            "text/plain": [
              "<Figure size 640x480 with 1 Axes>"
            ],
            "image/png": "[encoded data removed]"
          },
          "metadata": {}
        }
      ]
    },
    {
      "cell_type": "markdown",
      "metadata": {
        "id": "7rx6stU7oqpX"
      },
      "source": [
        "Note that at at this scale with `P >> N` gradient descent is considerably faster than the matrix solve used above. Let's check we're getting the same answer with both approaches:"
      ]
    },
    {
      "cell_type": "code",
      "metadata": {
        "id": "cJvhtsjP6Z6w",
        "colab": {
          "base_uri": "https://localhost:8080/"
        },
        "outputId": "38d5af8e-bb26-4c4d-f9fa-6e3963bc18ed"
      },
      "source": [
        "beta_analytic = ridge_regression(X_train, y_train, optimal_lamb)\n",
        "(beta_analytic - beta).abs().mean().item()"
      ],
      "execution_count": null,
      "outputs": [
        {
          "output_type": "execute_result",
          "data": {
            "text/plain": [
              "1.8622671182910722e-09"
            ]
          },
          "metadata": {},
          "execution_count": 18
        }
      ]
    },
    {
      "cell_type": "markdown",
      "metadata": {
        "id": "x6qXRRkE7UrV"
      },
      "source": [
        "The beta found by the two approaches are almost identical.\n",
        "\n",
        "Let's take a look at the distribution of the coefficients:  "
      ]
    },
    {
      "cell_type": "code",
      "metadata": {
        "id": "xugZ3_JKk81a",
        "colab": {
          "base_uri": "https://localhost:8080/",
          "height": 434
        },
        "outputId": "58437f8f-8233-4408-a30f-25b130d0dbc7"
      },
      "source": [
        "_ = plt.hist(beta_analytic.cpu().numpy(), 100)"
      ],
      "execution_count": null,
      "outputs": [
        {
          "output_type": "display_data",
          "data": {
            "text/plain": [
              "<Figure size 640x480 with 1 Axes>"
            ],
            "image/png": "[encoded data removed]"
          },
          "metadata": {}
        }
      ]
    },
    {
      "cell_type": "markdown",
      "metadata": {
        "id": "T3Nsoah8Mx7m"
      },
      "source": [
        "\n",
        "These look roughly Gaussian distributed. We can look at the predictions on test data and assess how good these are using the Pearson correlation and hypothesis test (for the correlation being non-zero):  "
      ]
    },
    {
      "cell_type": "code",
      "metadata": {
        "id": "xwtdLNLcdbDD",
        "colab": {
          "base_uri": "https://localhost:8080/",
          "height": 480
        },
        "outputId": "0f80d7d0-f2d1-451a-a3ba-4ab4a05d4792"
      },
      "source": [
        "pred_test = X_test @ beta_analytic # make predictions on the test set\n",
        "import scipy\n",
        "R,p = scipy.stats.pearsonr(y_test.cpu(), pred_test.cpu())\n",
        "plt.scatter(pred_test.cpu(), y_test.cpu())\n",
        "plt.title(\"R^2=%f pvalue=%f\" % (R**2, p))\n",
        "plt.xlabel(\"Measured sensitivity\")\n",
        "plt.ylabel(\"Predicted sensitivity\")\n",
        "plt.show()"
      ],
      "execution_count": null,
      "outputs": [
        {
          "output_type": "display_data",
          "data": {
            "text/plain": [
              "<Figure size 640x480 with 1 Axes>"
            ],
            "image/png": "[encoded data removed]"
          },
          "metadata": {}
        }
      ]
    },
    {
      "cell_type": "markdown",
      "metadata": {
        "id": "EZ23AgdrM6VV"
      },
      "source": [
        "The predicted and observed drug sensitivity measurements are significantly correlated."
      ]
    },
    {
      "cell_type": "markdown",
      "metadata": {
        "id": "6U98Mh85k_vK"
      },
      "source": [
        "\n",
        "## LASSO regression\n",
        "\n",
        "We can similarly use (sub)gradient descent to fit L1 regularized regression, aka the [Lasso](https://en.wikipedia.org/wiki/Lasso_(statistics)). A subgradient of $|\\beta|$ is sign$(\\beta)$.\n",
        "\n",
        "Code the gradient - you hopefully already know how to implement the gradient of the squared error term, so now you just need the regularization term [1 point]."
      ]
    },
    {
      "cell_type": "code",
      "metadata": {
        "id": "t8gI3lgFgo5T"
      },
      "source": [
        "def fit_lasso(X, y, lamb, learning_rate = 0.001, iterations = 100):\n",
        "    beta = torch.zeros(X.shape[1], device=X.device)\n",
        "    losses = []\n",
        "    for it in range(iterations):\n",
        "        err = y - X @ beta\n",
        "        loss = .5 * (err * err).mean() + lamb * beta.abs().sum()\n",
        "        if np.isnan(loss.item()):\n",
        "            print(\"Warning: GD diverged on iteration %i\" % it)\n",
        "            break\n",
        "        losses.append(loss.item())\n",
        "        grad =  -(X.T @ err) / X.shape[0] + lamb * beta.sign()\n",
        "        beta -= learning_rate * grad\n",
        "    return(beta,losses)\n",
        "\n",
        "beta,_ = fit_lasso(X_train, y_train, learning_rate = 0.001, lamb = 0.01, iterations = 1000)\n",
        "assert( np.abs(beta.std().item() - 0.0020454663317650557 ) < 1e-6 )\n"
      ],
      "execution_count": null,
      "outputs": []
    },
    {
      "cell_type": "markdown",
      "metadata": {
        "id": "RiAki96AUe7b"
      },
      "source": [
        "Let's try a range of regularization parameters again:"
      ]
    },
    {
      "cell_type": "code",
      "metadata": {
        "id": "ThlriEUJWgOD",
        "colab": {
          "base_uri": "https://localhost:8080/",
          "height": 562
        },
        "outputId": "1ceb4484-c87a-43d4-955c-239d35573c8b"
      },
      "source": [
        "lambdas = 10.**torch.arange(-6,0,step=1,dtype=torch.float)\n",
        "val_rmse = np.zeros(len(lambdas))\n",
        "learning_rate = 0.001\n",
        "for lbd_idx,lamb in enumerate(lambdas):\n",
        "    print(\"Lambda=%f, fitting...\" % lamb)\n",
        "    beta, _ = fit_lasso(X_train, y_train, lamb, learning_rate = learning_rate)\n",
        "    pred_val = X_val @ beta # make predictions on the validation set\n",
        "    val_rmse[lbd_idx] = np.sqrt(torch.mean((y_val - pred_val)**2).item()) # item() gets the scalar value\n",
        "_ = plt.plot(np.log10(lambdas.numpy()), val_rmse)\n",
        "_ = plt.xlabel(\"log10(lambda)\")\n",
        "_ = plt.ylabel(\"Validation RMSE\")"
      ],
      "execution_count": null,
      "outputs": [
        {
          "output_type": "stream",
          "name": "stdout",
          "text": [
            "Lambda=0.000001, fitting...\n",
            "Lambda=0.000010, fitting...\n",
            "Lambda=0.000100, fitting...\n",
            "Lambda=0.001000, fitting...\n",
            "Lambda=0.010000, fitting...\n",
            "Lambda=0.100000, fitting...\n"
          ]
        },
        {
          "output_type": "display_data",
          "data": {
            "text/plain": [
              "<Figure size 640x480 with 1 Axes>"
            ],
            "image/png": "[encoded data removed]"
          },
          "metadata": {}
        }
      ]
    },
    {
      "cell_type": "code",
      "metadata": {
        "id": "oN7ZRbq0Mizl",
        "colab": {
          "base_uri": "https://localhost:8080/"
        },
        "outputId": "4e0a48b0-53bf-4054-fc4e-7e4c3e8269d1"
      },
      "source": [
        "optimal_lamb = lambdas[np.argmin(val_rmse)]\n",
        "optimal_lamb.item()"
      ],
      "execution_count": null,
      "outputs": [
        {
          "output_type": "execute_result",
          "data": {
            "text/plain": [
              "0.009999999776482582"
            ]
          },
          "metadata": {},
          "execution_count": 23
        }
      ]
    },
    {
      "cell_type": "markdown",
      "metadata": {
        "id": "HgNriUeuqOs1"
      },
      "source": [
        "gives optimal performance on the validation data.\n",
        "\n",
        "Let's look at the distribution of fitted coefficients for the Lasso:"
      ]
    },
    {
      "cell_type": "code",
      "metadata": {
        "id": "u6_1pI8pVd64",
        "colab": {
          "base_uri": "https://localhost:8080/",
          "height": 434
        },
        "outputId": "6a231c40-7563-4203-888f-13a31c9bf487"
      },
      "source": [
        "beta_lasso, _ = fit_lasso(X_train, y_train, lamb = optimal_lamb)\n",
        "beta_lasso_np = beta_lasso.cpu().numpy()\n",
        "_ = plt.hist(beta_lasso_np, 100)"
      ],
      "execution_count": null,
      "outputs": [
        {
          "output_type": "display_data",
          "data": {
            "text/plain": [
              "<Figure size 640x480 with 1 Axes>"
            ],
            "image/png": "[encoded data removed]"
          },
          "metadata": {}
        }
      ]
    },
    {
      "cell_type": "markdown",
      "metadata": {
        "id": "0LlXffXdmViJ"
      },
      "source": [
        "Note that more coefficients are much more concentrated close to 0 than for the ridge regression.\n",
        "\n",
        "Next let's look at predictions on the test set again:"
      ]
    },
    {
      "cell_type": "code",
      "metadata": {
        "id": "KpceQuWneBiL",
        "colab": {
          "base_uri": "https://localhost:8080/",
          "height": 480
        },
        "outputId": "758b0f2e-3479-4f3d-ced3-0dd69a21823d"
      },
      "source": [
        "pred_test = X_test @ beta_lasso # make predictions on the test set\n",
        "R,p = scipy.stats.pearsonr(y_test.cpu(), pred_test.cpu())\n",
        "plt.scatter(pred_test.cpu(), y_test.cpu())\n",
        "plt.title(\"R^2=%f pvalue=%f\" % (R**2, p))\n",
        "plt.xlabel(\"Measured sensitivity\")\n",
        "plt.ylabel(\"Predicted sensitivity\")\n",
        "plt.show()"
      ],
      "execution_count": null,
      "outputs": [
        {
          "output_type": "display_data",
          "data": {
            "text/plain": [
              "<Figure size 640x480 with 1 Axes>"
            ],
            "image/png": "[encoded data removed]"
          },
          "metadata": {}
        }
      ]
    },
    {
      "cell_type": "markdown",
      "metadata": {
        "id": "0ZBrHvazeGhV"
      },
      "source": [
        "The R^2 (proportion of variance explained) is very similar for ridge and lasso regression, but the lasso is potentially more \"interpretable\" since it has fewer non-zero coefficients."
      ]
    },
    {
      "cell_type": "markdown",
      "metadata": {
        "id": "StedZT9KsGTv"
      },
      "source": [
        "## Binary classification & Logistic regression\n",
        "\n",
        "One of the analyses in the GDSC determined sensible thresholds to determine \"resistant\" vs \"sensitive\" cell lines for each drug. For PHI-7 the threshold is:"
      ]
    },
    {
      "cell_type": "code",
      "metadata": {
        "id": "DuvM6H-DtJcL"
      },
      "source": [
        "sens_threshold = 1.2307"
      ],
      "execution_count": null,
      "outputs": []
    },
    {
      "cell_type": "markdown",
      "metadata": {
        "id": "c8VEVJJ0tM-S"
      },
      "source": [
        "Let's compare that to the distribution of IC50s."
      ]
    },
    {
      "cell_type": "code",
      "metadata": {
        "id": "bMcjPt4KsHKM",
        "colab": {
          "base_uri": "https://localhost:8080/",
          "height": 475
        },
        "outputId": "cc6b48df-6130-4ae2-a9b6-42020b6acb30"
      },
      "source": [
        "plt.hist(ic50[\"PFI-1\"])\n",
        "plt.xlabel(\"IC50 for PFI-1\")\n",
        "plt.ylabel(\"Frequency\")\n",
        "plt.axvline(x=sens_threshold, color='r')"
      ],
      "execution_count": null,
      "outputs": [
        {
          "output_type": "execute_result",
          "data": {
            "text/plain": [
              "<matplotlib.lines.Line2D at 0x7c0a10eacc70>"
            ]
          },
          "metadata": {},
          "execution_count": 27
        },
        {
          "output_type": "display_data",
          "data": {
            "text/plain": [
              "<Figure size 640x480 with 1 Axes>"
            ],
            "image/png": "[encoded data removed]"
          },
          "metadata": {}
        }
      ]
    },
    {
      "cell_type": "markdown",
      "metadata": {
        "id": "xB_A5DKitQN1"
      },
      "source": [
        "So any cell lines with an IC50 < 1.23 would be considered sensitive, and >1.23 are resistant. Could we predict this binary outcome directly? We'll use logistic regression to do this. Unlike for linear regression we can't just subtract away the mean, so we'll need to include an intercept term. The easy way to do this is to add a column of `1`s to `X`."
      ]
    },
    {
      "cell_type": "code",
      "metadata": {
        "id": "jXfQrWie0-6t"
      },
      "source": [
        "X_train_1 = torch.cat((X_train, torch.ones((X_train.shape[0],1), device=device)), axis = 1)\n",
        "X_val_1 = torch.cat((X_val, torch.ones((X_val.shape[0],1), device=device)), axis = 1)\n",
        "X_test_1 = torch.cat((X_test, torch.ones((X_test.shape[0],1), device=device)), axis = 1)"
      ],
      "execution_count": null,
      "outputs": []
    },
    {
      "cell_type": "code",
      "metadata": {
        "id": "2nmfir_1vgJC",
        "colab": {
          "base_uri": "https://localhost:8080/"
        },
        "outputId": "85e448cb-4736-4b27-e42c-fadfccfe1ec9"
      },
      "source": [
        "y_binary = (y_unnorm < sens_threshold).float()\n",
        "y_binary.mean().item()"
      ],
      "execution_count": null,
      "outputs": [
        {
          "output_type": "execute_result",
          "data": {
            "text/plain": [
              "0.09606987237930298"
            ]
          },
          "metadata": {},
          "execution_count": 29
        }
      ]
    },
    {
      "cell_type": "markdown",
      "metadata": {
        "id": "aK2JIEAsvt7Y"
      },
      "source": [
        "By this definition, 9% of the cell lines are sensitive."
      ]
    },
    {
      "cell_type": "code",
      "metadata": {
        "id": "bYa3MdEvu3Bz"
      },
      "source": [
        "y_bin_train = y_binary[train_idx]\n",
        "y_bin_val = y_binary[val_idx]\n",
        "y_bin_test = y_binary[test_idx]"
      ],
      "execution_count": null,
      "outputs": []
    },
    {
      "cell_type": "markdown",
      "metadata": {
        "id": "ZJWCG61KfJ35"
      },
      "source": [
        "**Now you'll write a function to evaluate the logistic regression loss and the gradient wrt `beta`**. You'll do this using [backpropagation](https://en.wikipedia.org/wiki/Backpropagation) which is really use iteratively using the [chain rule](https://en.wikipedia.org/wiki/Chain_rule). I've given the order of the things you need to calculate. The convention I'm using is that `dA_dB` is the partial derivative $\\partial A / \\partial B$. If you get an error you can call `%debug` in a subsequent cell to get the `pdb` debugger up. It can be useful to check the `shape` of tensors is correct (e.g. just `print` these). Note there are valid ways to do this that give dloss_dbeta as a [1xP] matrix but the code below expects a [P] vector (which you can get using torch.squeeze or dloss_dbeta[0,:]). A correct implementation will result in the assertion (two cells down) passing. [4 points]"
      ]
    },
    {
      "cell_type": "code",
      "metadata": {
        "id": "4x--XPDyzviT"
      },
      "source": [
        "def logistic_reg_loss_and_gradient(X, y, beta):\n",
        "    # forward\n",
        "    g = X @ beta\n",
        "    p = torch.sigmoid(g)\n",
        "    loss = - torch.mean( y * torch.log(p) + (1.-y) * torch.log(1.-p) )\n",
        "    # backpropagation - TODO fill in the expressions\n",
        "\n",
        "    dloss_dp = -( y/p - (1. - y)/(1. - p)) / y.shape[0] # divide by the sample size to account for mean. shape [N]\n",
        "    dp_dg = p * (1. - p) # You need to work out the derivative of the logistic function. Confirm this yourself! shape [N]\n",
        "    dloss_dg = dloss_dp * dp_dg # chain rule! shape. [N]\n",
        "    dg_dbeta = X # kinda trivial, just here for clarity. shape [N x P] (although the transpose which is [P x N] could be ok if used appropriately below)\n",
        "    dloss_dbeta = dg_dbeta.T @ dloss_dg # chain rule again, but using a matrix multiply! shape [P]\n",
        "    #print(dloss_dbeta.shape)\n",
        "    return(loss, dloss_dbeta)"
      ],
      "execution_count": null,
      "outputs": []
    },
    {
      "cell_type": "markdown",
      "metadata": {
        "id": "udKK0zLepxNm"
      },
      "source": [
        "We aren't using it (yet) so that you can see how everything works explicitly, but one of the main features of `pytorch` and other DL libraries is that they can automatically calculate gradients via backprop for us. We can use this to check our hand-engineered gradient calculation:"
      ]
    },
    {
      "cell_type": "code",
      "metadata": {
        "id": "PWRv_iVtSNbT",
        "colab": {
          "base_uri": "https://localhost:8080/"
        },
        "outputId": "17f28e16-131e-4ec4-ba21-a414a561fe87"
      },
      "source": [
        "beta = torch.zeros(X_train_1.shape[1], device=X.device, requires_grad = True) # requires_grad tells pytorch we want gradients for this tensor\n",
        "loss,gradient_to_test = logistic_reg_loss_and_gradient(X_train_1, y_bin_train, beta)\n",
        "print(gradient_to_test)\n",
        "loss.backward() # pytorch backprop\n",
        "print(beta.grad) # pytorch gradient\n",
        "print((beta.grad - gradient_to_test).abs().mean().item())"
      ],
      "execution_count": null,
      "outputs": [
        {
          "output_type": "stream",
          "name": "stdout",
          "text": [
            "tensor([ 5.8106e-02, -1.6760e-04, -7.8512e-03,  ...,  3.4600e-03,\n",
            "        -6.6840e-03,  3.9768e-01], device='cuda:0', grad_fn=<MvBackward0>)\n",
            "tensor([ 5.8106e-02, -1.6760e-04, -7.8512e-03,  ...,  3.4600e-03,\n",
            "        -6.6840e-03,  3.9768e-01], device='cuda:0')\n",
            "0.0\n"
          ]
        }
      ]
    },
    {
      "cell_type": "markdown",
      "metadata": {
        "id": "q2DSb3iIqYy8"
      },
      "source": [
        "Check this matches with your hand-coded version:"
      ]
    },
    {
      "cell_type": "code",
      "metadata": {
        "id": "Eb7ZMTSZVrbX"
      },
      "source": [
        "assert( (beta.grad - gradient_to_test).abs().mean().item() < 1e-8 )"
      ],
      "execution_count": null,
      "outputs": []
    },
    {
      "cell_type": "markdown",
      "metadata": {
        "id": "e7jOW1N3QV85"
      },
      "source": [
        "We want you to be able to run the remaining code even if you can't work out the backprop code above. So here's an implementation using `pytorch`s autograd:"
      ]
    },
    {
      "cell_type": "code",
      "metadata": {
        "id": "wU-msMXcQspS"
      },
      "source": [
        "def logistic_reg_loss_and_gradient(X, y, beta):\n",
        "    beta.requires_grad = True # tell torch we will want gradients wrt to this\n",
        "    if not beta.grad is None: beta.grad.zero_() # clear old gradient values from previous iterations\n",
        "    g = X @ beta\n",
        "    p = torch.sigmoid(g)\n",
        "    loss = - torch.mean( y * torch.log(p) + (1.-y) * torch.log(1.-p) )\n",
        "    loss.backward()\n",
        "    beta.requires_grad = False # other it will try to track gradients during GD itself!\n",
        "    return(loss, beta.grad)"
      ],
      "execution_count": null,
      "outputs": []
    },
    {
      "cell_type": "markdown",
      "metadata": {
        "id": "tw3j78FQfrpu"
      },
      "source": [
        "Now we can use this function in gradient descent to fit the LR model. Notes\n",
        "*   we include the option for both L1 and L2 regularization.\n",
        "*   we initialize the intercept term to the MLE if all other coefficients were 0.\n",
        "*   we don't regularize the intercept term.\n",
        "\n"
      ]
    },
    {
      "cell_type": "code",
      "metadata": {
        "id": "IGMqJXn_0vrT"
      },
      "source": [
        " def fit_logistic_reg(X, y, l1_lambda = 0., l2_lambda = 0., learning_rate = 0.001, iterations = 100):\n",
        "    beta = torch.zeros(X.shape[1], device=X.device)\n",
        "    y_mean = y.mean()\n",
        "    beta[-1] = torch.log(y_mean) - torch.log(1. - y_mean) # intercept init\n",
        "    losses = []\n",
        "    for it in range(iterations):\n",
        "        loss, grad = logistic_reg_loss_and_gradient(X, y, beta)\n",
        "        beta_no_int = beta[:-1] # beta excluding the intercept term at the end\n",
        "        loss += l1_lambda * beta_no_int.abs().sum() + .5 * l2_lambda * (beta_no_int*beta_no_int).sum()\n",
        "        losses.append(loss.item())\n",
        "        grad[:-1] += l1_lambda * torch.sign(beta_no_int) + l2_lambda * beta_no_int # don't regularize intercept term\n",
        "        if np.isnan(loss.item()):\n",
        "            print(\"Warning: GD diverged at iteration %i\" % it)\n",
        "            return(beta * np.nan, losses) # return nan beta if diverges\n",
        "        beta -= learning_rate * grad # * float(it+1)**-(2./3)\n",
        "    return(beta,losses)"
      ],
      "execution_count": null,
      "outputs": []
    },
    {
      "cell_type": "markdown",
      "metadata": {
        "id": "NT4r2G8Gf-F4"
      },
      "source": [
        "Let's try a range of L2 regularization and calculate the validation Negative Log Likelihood (nll)."
      ]
    },
    {
      "cell_type": "code",
      "metadata": {
        "id": "QDjCEeTXn9Kc",
        "colab": {
          "base_uri": "https://localhost:8080/",
          "height": 530
        },
        "outputId": "61de10b2-a38b-48b4-d5e9-37ddac872422"
      },
      "source": [
        "lambdas = 10 ** np.arange(-4, 4, step = 0.5)\n",
        "val_nll = np.zeros_like(lambdas)\n",
        "\n",
        "for i,lamb in enumerate(lambdas): # try different settings of lambda\n",
        "    beta,_ = fit_logistic_reg( X_train_1, y_bin_train, l2_lambda = lamb, learning_rate = 0.01, iterations = 100 )\n",
        "    pred_val = torch.sigmoid(X_val_1 @ beta) # make predictions on the validation set\n",
        "    val_nll[i] = - torch.mean( y_bin_val * torch.log(pred_val) + (1.-y_bin_val) * torch.log(1.-pred_val) ).item() # item() gets the scalar value\n",
        "\n",
        "plt.plot(np.log10(lambdas), val_nll)\n",
        "plt.xlabel(\"log10(lambda)\")\n",
        "plt.ylabel(\"Validation loss\")"
      ],
      "execution_count": null,
      "outputs": [
        {
          "output_type": "stream",
          "name": "stdout",
          "text": [
            "Warning: GD diverged at iteration 3\n",
            "Warning: GD diverged at iteration 3\n",
            "Warning: GD diverged at iteration 2\n"
          ]
        },
        {
          "output_type": "execute_result",
          "data": {
            "text/plain": [
              "Text(0, 0.5, 'Validation loss')"
            ]
          },
          "metadata": {},
          "execution_count": 36
        },
        {
          "output_type": "display_data",
          "data": {
            "text/plain": [
              "<Figure size 640x480 with 1 Axes>"
            ],
            "image/png": "[encoded data removed]"
          },
          "metadata": {}
        }
      ]
    },
    {
      "cell_type": "markdown",
      "metadata": {
        "id": "yNnf32BDczYE"
      },
      "source": [
        "Note that the optimization diverges for large values of lambda, we'll ignore this for now."
      ]
    },
    {
      "cell_type": "code",
      "metadata": {
        "id": "nKshFt2aP_5D",
        "colab": {
          "base_uri": "https://localhost:8080/",
          "height": 458
        },
        "outputId": "e9b204e6-2c98-4ea9-fad5-234f5d75232e"
      },
      "source": [
        "optimal_lamb = lambdas[np.nanargmin(val_nll)]\n",
        "beta_logr,losses = fit_logistic_reg(X_train_1,\n",
        "                                    y_bin_train,\n",
        "                                    l2_lambda = optimal_lamb)\n",
        "_ = plt.plot(losses)\n",
        "_ = plt.xlabel(\"Iterations\")\n",
        "_ = plt.ylabel(\"Training loss\")"
      ],
      "execution_count": null,
      "outputs": [
        {
          "output_type": "display_data",
          "data": {
            "text/plain": [
              "<Figure size 640x480 with 1 Axes>"
            ],
            "image/png": "[encoded data removed]"
          },
          "metadata": {}
        }
      ]
    },
    {
      "cell_type": "markdown",
      "metadata": {
        "id": "mX3raVMqjHr8"
      },
      "source": [
        "Finally let's assess performance on the test data using a [ROC](https://en.wikipedia.org/wiki/Receiver_operating_characteristic) curve."
      ]
    },
    {
      "cell_type": "code",
      "metadata": {
        "id": "9alioo2Tmuxe",
        "colab": {
          "base_uri": "https://localhost:8080/",
          "height": 480
        },
        "outputId": "022fe1cd-3555-4541-a48c-7b74c2688ada"
      },
      "source": [
        "import sklearn.metrics as metrics\n",
        "val_pred = torch.sigmoid(X_test_1 @ beta_logr)\n",
        "fpr, tpr, _ = metrics.roc_curve(y_bin_test.cpu().numpy(), val_pred.cpu().numpy())\n",
        "roc_auc = metrics.auc(fpr, tpr)\n",
        "\n",
        "plt.title('Receiver Operating Characteristic')\n",
        "plt.plot(fpr, tpr, 'b', label = 'AUC = %0.2f' % roc_auc)\n",
        "plt.legend(loc = 'lower right')\n",
        "plt.plot([0, 1], [0, 1],'r--')\n",
        "plt.ylabel('True Positive Rate')\n",
        "plt.xlabel('False Positive Rate')\n",
        "plt.show()"
      ],
      "execution_count": null,
      "outputs": [
        {
          "output_type": "display_data",
          "data": {
            "text/plain": [
              "<Figure size 640x480 with 1 Axes>"
            ],
            "image/png": "[encoded data removed]"
          },
          "metadata": {}
        }
      ]
    },
    {
      "cell_type": "markdown",
      "metadata": {
        "id": "qlbLmS-Dqv9s"
      },
      "source": [
        "Random prediction gives an AUC of 0.5, so this is considerably better than that but still not great! This is a difficult prediction task!"
      ]
    },
    {
      "cell_type": "markdown",
      "metadata": {
        "id": "NvP8XO-Hq3eg"
      },
      "source": [
        "## Neural networks\n",
        "\n",
        "We'll use a Python class to hold the multiple parameters (weight matrices and intercepts) that make up the neural network. This also lets us conviently encapsulate associated functions to calculate the loss and gradient and to perform GD.\n",
        "\n",
        "**You'll implement backprop again following a recipe as above for logistic regression. [4 points]**\n",
        "\n",
        "I strongly recommend drawing out the computation graph for one layer and working out the math by hand before you start trying to code this!\n",
        "\n",
        "Note that variables called e.g. `dloss_dA` refers to $\\frac{\\partial L}{\\partial A}$ and should have the same shape as `A`."
      ]
    },
    {
      "cell_type": "code",
      "metadata": {
        "id": "aJbY_zaZRJ0a"
      },
      "source": [
        "class DNN:\n",
        "\n",
        "    def __init__(self, dims, device, requires_grad = False):\n",
        "        \"\"\"Initialize Dense Neural Network\n",
        "\n",
        "        Parameters\n",
        "        ----------\n",
        "        dims : array-like\n",
        "            Array specifying number of neurons in (i.e. dimension of) each layer.\n",
        "            dims[0] is the input dimension, last element dims[-1] is the output dimension. The\n",
        "            number of hidden layers is len(dims)-1.\n",
        "        device\n",
        "            The torch device to use.\n",
        "        requires_grad : bool\n",
        "            Set to true to check calculations against pytorch's own autograd\n",
        "            (or to False to save\n",
        "        \"\"\"\n",
        "        self.weights = {}\n",
        "        self.intercepts = {}\n",
        "        self.num_hidden_layers = len(dims) - 2 # dims[0] = input dim,\n",
        "        self.dloss_dweights = {}\n",
        "        self.dloss_dintercept = {}\n",
        "        for layer_idx in range(len(dims)-1):\n",
        "            self.weights[layer_idx] = torch.randn(dims[layer_idx:layer_idx+2],\n",
        "                                                  device=device) * np.sqrt(2. / dims[layer_idx])  # He initialization\n",
        "            if requires_grad:\n",
        "                self.weights[layer_idx].requires_grad = True\n",
        "            self.intercepts[layer_idx] = torch.zeros(dims[layer_idx+1],\n",
        "                                                     device=device,\n",
        "                                                     requires_grad = requires_grad)\n",
        "\n",
        "    def loss_and_gradient(self, X, y, obs_weights, backprop = True):\n",
        "        hidden = {} # dictionary to store activations/outputs of each layer. hidden[i] = output of layer i\n",
        "        hidden[-1] = X # use hidden[-1] to denote the model input X\n",
        "        # forward\n",
        "        for layer_idx in range(self.num_hidden_layers + 1):\n",
        "            g = hidden[layer_idx - 1] @ self.weights[layer_idx] + self.intercepts[layer_idx]\n",
        "            hidden[layer_idx] = torch.relu(g) if (layer_idx < self.num_hidden_layers) else g # don't run ReLU on output layer\n",
        "        output = hidden[self.num_hidden_layers] # output of final layer is the DNN output\n",
        "        err = y - output\n",
        "        loss = .5 * torch.sum(obs_weights * err * err) / obs_weights.sum()\n",
        "\n",
        "        # backpropagation\n",
        "        if backprop:\n",
        "            dloss_dhidden = {}\n",
        "            dloss_dhidden[self.num_hidden_layers] = - obs_weights * err / obs_weights.sum() # remember hidden[self.num_hidden_layers] is the model output\n",
        "            for layer_idx in range(self.num_hidden_layers, -1, -1): # iterate backwards through each layer\n",
        "                if layer_idx < self.num_hidden_layers:\n",
        "                    dloss_dg = dloss_dhidden[layer_idx] * (hidden[layer_idx] > 0) # TODO: when will the grad of relu be 0 or 1 as function of hidden[layer_idx]?\n",
        "                else:\n",
        "                    dloss_dg = dloss_dhidden[layer_idx] # for the output layer g == output\n",
        "                #print(dloss_dg.shape, hidden[layer_idx].shape)\n",
        "                assert(dloss_dg.shape == hidden[layer_idx].shape)\n",
        "                self.dloss_dweights[layer_idx] = hidden[layer_idx - 1].T @ dloss_dg # multivariate chain rule\n",
        "                #print(self.dloss_dweights[layer_idx].shape, self.weights[layer_idx].shape)\n",
        "                assert(self.dloss_dweights[layer_idx].shape == self.weights[layer_idx].shape)\n",
        "                self.dloss_dintercept[layer_idx] = dloss_dg.sum(axis=0) # could do this with chain rule, but there's a more efficient way\n",
        "                #print(self.dloss_dintercept[layer_idx].shape, self.intercepts[layer_idx].shape)\n",
        "                assert(self.dloss_dintercept[layer_idx].shape == self.intercepts[layer_idx].shape)\n",
        "                dloss_dhidden[layer_idx - 1] = dloss_dg @ self.weights[layer_idx].T # chain rule and recurse back to next layer. input of this layer is the output of the previous layer\n",
        "                #print(dloss_dhidden[layer_idx - 1].shape, hidden[layer_idx - 1].shape)\n",
        "                assert(dloss_dhidden[layer_idx - 1].shape == hidden[layer_idx - 1].shape)\n",
        "\n",
        "        return(loss,output) # g is the final network output\n",
        "\n",
        "    def grad_step(self, X, y, obs_weights, learning_rate = 0.001):\n",
        "        loss,_ = self.loss_and_gradient(X, y, obs_weights)\n",
        "        for layer_idx in range(self.num_hidden_layers + 1):\n",
        "            self.weights[layer_idx] -= learning_rate * self.dloss_dweights[layer_idx]\n",
        "            self.intercepts[layer_idx] -= learning_rate * self.dloss_dintercept[layer_idx]\n",
        "        return(loss)\n",
        "\n",
        "    def cache_parameters(self):\n",
        "        self.cached_weights = { k:v.detach().clone() for k,v in self.weights.items() }\n",
        "        self.cached_intercepts = { k:v.detach().clone() for k,v in self.intercepts.items() }\n",
        "\n",
        "    def recover_cache(self):\n",
        "        self.weights = self.cached_weights\n",
        "        self.intercepts = self.cached_intercepts\n",
        "\n",
        "    def gradient_descent(self, X, y, obs_weights, X_val, y_val, obs_weights_val, iterations = 200, learning_rate = 0.001):\n",
        "        #print(f\"X dtype: {X.dtype}, shape: {X.shape}\")\n",
        "        #print(f\"X_val dtype: {X_val.dtype}, shape: {X_val.shape}\")\n",
        "        #print(f\"y dtype: {y.dtype}, shape: {y.shape}\")\n",
        "        #print(f\"y_val dtype: {y_val.dtype}, shape: {y_val.shape}\")\n",
        "\n",
        "        losses = []\n",
        "        val_losses = []\n",
        "        patience = 10 # for early stopping\n",
        "        patience_counter = patience\n",
        "        best_val_loss = np.inf\n",
        "        for it in range(iterations):\n",
        "            loss = self.grad_step(X, y, obs_weights, learning_rate = learning_rate)\n",
        "            losses.append(loss.item())\n",
        "            val_loss,_ = self.loss_and_gradient(X_val, y_val, obs_weights_val, backprop = False)\n",
        "            val_losses.append(val_loss.item())\n",
        "            if val_loss < best_val_loss:\n",
        "                self.cache_parameters()\n",
        "                best_val_loss = val_loss\n",
        "                patience_counter = patience\n",
        "            else:\n",
        "                patience_counter -= 1\n",
        "                if patience_counter <= 0:\n",
        "                    print(\"Early stopping at iteration %i\" % it)\n",
        "                    self.recover_cache() # recover the best model so far\n",
        "                    break\n",
        "        return(losses,val_losses)"
      ],
      "execution_count": null,
      "outputs": []
    },
    {
      "cell_type": "markdown",
      "metadata": {
        "id": "UFv_jusqRYd6"
      },
      "source": [
        "Let's check our calculation against `pytorch`:"
      ]
    },
    {
      "cell_type": "code",
      "metadata": {
        "id": "lBDAOoteQYGv"
      },
      "source": [
        "dnn = DNN([X.shape[1], 16, 1], device = device, requires_grad=True)\n",
        "loss,_ = dnn.loss_and_gradient(X_train, y_train[:,None], torch.ones_like(y_train[:,None]))\n",
        "loss.backward()\n",
        "assert( ( dnn.dloss_dweights[0] - dnn.weights[0].grad ).abs().mean().item() < 1e-8 )"
      ],
      "execution_count": null,
      "outputs": []
    },
    {
      "cell_type": "markdown",
      "metadata": {
        "id": "Kg1lJtjQRcK9"
      },
      "source": [
        "Make sure this assertion passes! In case you really can't figure out the backprop math/code here's a version of loss_and_gradients you can substitute into the class definition above which which uses `pytorch`'s builtin backprop abilities rather than coding it manually:"
      ]
    },
    {
      "cell_type": "code",
      "source": [
        "def loss_and_gradient(self, X, y, obs_weights, backprop = True):\n",
        "\n",
        "    if backprop:\n",
        "        for layer_idx in range(self.num_hidden_layers + 1):\n",
        "            self.weights[layer_idx].requires_grad = True\n",
        "            self.intercepts[layer_idx].requires_grad = True\n",
        "            if not self.weights[layer_idx].grad is None: self.weights[layer_idx].grad.zero_()\n",
        "            if not self.intercepts[layer_idx].grad is None: self.intercepts[layer_idx].grad.zero_()\n",
        "\n",
        "    hidden = {} # dictionary to store activations/outputs of each layer. hidden[i] = output of layer i\n",
        "    hidden[-1] = X # use hidden[-1] to denote the model input X\n",
        "    # forward\n",
        "    for layer_idx in range(self.num_hidden_layers + 1):\n",
        "        g = hidden[layer_idx - 1] @ self.weights[layer_idx] + self.intercepts[layer_idx]\n",
        "        hidden[layer_idx] = torch.relu(g) if (layer_idx < self.num_hidden_layers) else g # don't run ReLU on output layer\n",
        "    output = hidden[self.num_hidden_layers] # output of final layer is the DNN output\n",
        "    err = y - output\n",
        "    loss = .5 * torch.sum(obs_weights * err * err) / obs_weights.sum()\n",
        "\n",
        "    if backprop:\n",
        "        # backpropagation\n",
        "        loss.backward(retain_graph=True)\n",
        "        for layer_idx in range(self.num_hidden_layers + 1):\n",
        "            self.weights[layer_idx].requires_grad = False\n",
        "            self.intercepts[layer_idx].requires_grad = False\n",
        "            self.dloss_dweights[layer_idx] = self.weights[layer_idx].grad\n",
        "            self.dloss_dintercept[layer_idx] = self.intercepts[layer_idx].grad\n",
        "\n",
        "    return(loss,output.detach())"
      ],
      "metadata": {
        "id": "I198WdKFgb-x"
      },
      "execution_count": null,
      "outputs": []
    },
    {
      "cell_type": "markdown",
      "source": [
        "OK let's try to fit our first NN!"
      ],
      "metadata": {
        "id": "7FRMpGaTgjHT"
      }
    },
    {
      "cell_type": "code",
      "metadata": {
        "id": "xa0zZM8yRXqX",
        "colab": {
          "base_uri": "https://localhost:8080/",
          "height": 493
        },
        "outputId": "64efb1ab-a155-485b-d51d-a103b092d4c7"
      },
      "source": [
        "dnn = DNN([X.shape[1], 16, 1], device = device, requires_grad=False)\n",
        "losses,val_losses = dnn.gradient_descent(X_train,\n",
        "                                         y_train[:,None],\n",
        "                                         torch.ones_like(y_train[:,None]),\n",
        "                                         X_val,\n",
        "                                         y_val[:,None],\n",
        "                                         torch.ones_like(y_val[:,None]))\n",
        "plt.plot(losses, label=\"train\")\n",
        "plt.plot(val_losses, label=\"val\")\n",
        "plt.legend()\n",
        "plt.xlabel(\"Iteration\")\n",
        "plt.ylabel(\"MSE Loss\")"
      ],
      "execution_count": null,
      "outputs": [
        {
          "output_type": "stream",
          "name": "stdout",
          "text": [
            "Early stopping at iteration 85\n"
          ]
        },
        {
          "output_type": "execute_result",
          "data": {
            "text/plain": [
              "Text(0, 0.5, 'MSE Loss')"
            ]
          },
          "metadata": {},
          "execution_count": 42
        },
        {
          "output_type": "display_data",
          "data": {
            "text/plain": [
              "<Figure size 640x480 with 1 Axes>"
            ],
            "image/png": "[encoded data removed]"
          },
          "metadata": {}
        }
      ]
    },
    {
      "cell_type": "markdown",
      "metadata": {
        "id": "aNkyJjNzdN6H"
      },
      "source": [
        "A common strategy in DL is [early stopping](https://en.wikipedia.org/wiki/Early_stopping) where we stop (S)GD when the performance on the validation data stops improving. This is an implicit form of regularization in contrast with the explicit L1 and L2 regularization terms we used for linear/logistic regression.\n",
        "\n",
        "Let's check predictive performance on the test set."
      ]
    },
    {
      "cell_type": "code",
      "metadata": {
        "id": "KBDamRqTp3H3",
        "colab": {
          "base_uri": "https://localhost:8080/",
          "height": 480
        },
        "outputId": "320a3907-877f-451c-cbb5-41b667fc3984"
      },
      "source": [
        "test_loss,pred_test = dnn.loss_and_gradient(X_test, y_test[:,None], torch.ones_like(y_test[:,None]))\n",
        "pred_test = pred_test.flatten() # remove spurious extra dimension\n",
        "R,p = scipy.stats.pearsonr(y_test.cpu(), pred_test.cpu())\n",
        "plt.scatter(pred_test.cpu(), y_test.cpu())\n",
        "plt.title(\"R^2=%f pvalue=%f\" % (R**2, p))\n",
        "plt.xlabel(\"Measured sensitivity\")\n",
        "plt.ylabel(\"Predicted sensitivity\")\n",
        "plt.show()"
      ],
      "execution_count": null,
      "outputs": [
        {
          "output_type": "display_data",
          "data": {
            "text/plain": [
              "<Figure size 640x480 with 1 Axes>"
            ],
            "image/png": "[encoded data removed]"
          },
          "metadata": {}
        }
      ]
    },
    {
      "cell_type": "markdown",
      "metadata": {
        "id": "2Z_uvJtFpwgG"
      },
      "source": [
        "Here the DNN predicts better than random ($p<0.05$) on the test set, but worse than ridge or lasso regression. Why might that be (in general or for this application in particular)? (Give two reasons) [2 points]\n",
        "\n",
        "1) Complexity Mismatch\n",
        "\n",
        "DNN may have too many parameters relative to the amount of information provided by the data, which means it is too complex for the given dataset. And it may lead to poor learning.\n",
        "\n",
        "2) Overfitting\n",
        "\n",
        "A small dataset also increases the risk of overfitting. DNN is highly flexible. So when the data is insufficient, it memorizes the noise in the training data easily. This results in good performance on the training set, but poor performance on the test set.\n",
        "\n",
        "What could you try to improve the DNN's performance? (Give two suggestions) [2 points]\n",
        "\n",
        "1) Reduce Model Complexity\n",
        "\n",
        "Reduce the number of hidden layers and neurons in each layer. This will make the model less complex and help it better match the size of the dataset.\n",
        "\n",
        "2) Cross-validation\n",
        "\n",
        "Use k-fold cross-validation to train the model on different subsets of data and evaluate performance more robustly. It ensures that the model's performance is not tied to a specific train-test split and helps reduce overfitting.\n",
        "\n",
        "3) Data Augmentation\n",
        "\n",
        "Generate more data by introducing small noise or perturbations to existing data. This can help increase the diversity of the training set.\n",
        "\n",
        "Implement one of your ideas. [2 points]"
      ]
    },
    {
      "cell_type": "code",
      "metadata": {
        "id": "Dw--0JhKqALi",
        "colab": {
          "base_uri": "https://localhost:8080/",
          "height": 335
        },
        "outputId": "2a0e973a-87bd-4197-bc5d-b387233e03cd"
      },
      "source": [
        "def add_perturbation(X, noise_factor):\n",
        "    device = X.device\n",
        "    noise = noise_factor * torch.randn(X.shape).to(device)\n",
        "    print(noise.device)\n",
        "    X_perturbed1 = X + noise\n",
        "    X_perturbed2 = X - noise\n",
        "    return X_perturbed1, X_perturbed2\n",
        "\n",
        "X_new = torch.cat((X_train, X_val), dim=0)\n",
        "y_new = torch.cat((y_train, y_val), dim=0)\n",
        "print(X_new.device)\n",
        "\n",
        "X_perturbed1, X_perturbed2 = add_perturbation(X_new, noise_factor=0.025)\n",
        "print(X_new.shape, X_perturbed1.shape, X_perturbed2.shape, y_new.shape)\n",
        "X_augmented = torch.cat((X_new, X_perturbed1, X_perturbed2), axis=0)\n",
        "y_augmented = torch.cat((y_new, y_new, y_new), dim=0)\n",
        "print(X_augmented.shape,y_augmented.shape)\n",
        "\n",
        "N = len(y_augmented)\n",
        "print(N)\n",
        "np.random.seed(1234) # for reproducibility\n",
        "rand_perm = np.random.permutation(N)\n",
        "train_idx = rand_perm[:int(np.ceil(0.8 * N))]\n",
        "val_idx = rand_perm[int(np.ceil(0.8 * N)):]\n",
        "\n",
        "print(train_idx.shape,val_idx.shape)\n",
        "\n",
        "X_train_augmented = X_augmented[train_idx,:]\n",
        "X_val_augmented = X_augmented[val_idx,:]\n",
        "\n",
        "y_train_augmented = y_augmented[train_idx]\n",
        "y_val_augmented = y_augmented[val_idx]\n",
        "\n",
        "rand_perm[:10]"
      ],
      "execution_count": null,
      "outputs": [
        {
          "output_type": "stream",
          "name": "stderr",
          "text": [
            "<ipython-input-45-aeb69047075c>:17: UserWarning: To copy construct from a tensor, it is recommended to use sourceTensor.clone().detach() or sourceTensor.clone().detach().requires_grad_(True), rather than torch.tensor(sourceTensor).\n",
            "  y_augmented = torch.tensor(y_augmented, dtype=torch.float32).to('cuda' if torch.cuda.is_available() else 'cpu')\n"
          ]
        },
        {
          "output_type": "stream",
          "name": "stdout",
          "text": [
            "2748\n"
          ]
        },
        {
          "output_type": "error",
          "ename": "RuntimeError",
          "evalue": "CUDA error: device-side assert triggered\nCUDA kernel errors might be asynchronously reported at some other API call, so the stacktrace below might be incorrect.\nFor debugging consider passing CUDA_LAUNCH_BLOCKING=1\nCompile with `TORCH_USE_CUDA_DSA` to enable device-side assertions.\n",
          "traceback": [
            "\u001b[0;31m---------------------------------------------------------------------------\u001b[0m",
            "\u001b[0;31mRuntimeError\u001b[0m                              Traceback (most recent call last)",
            "\u001b[0;32m<ipython-input-45-aeb69047075c>\u001b[0m in \u001b[0;36m<cell line: 28>\u001b[0;34m()\u001b[0m\n\u001b[1;32m     26\u001b[0m \u001b[0;34m\u001b[0m\u001b[0m\n\u001b[1;32m     27\u001b[0m \u001b[0mX_train_augmented\u001b[0m \u001b[0;34m=\u001b[0m \u001b[0mX_augmented\u001b[0m\u001b[0;34m[\u001b[0m\u001b[0mtrain_idx\u001b[0m\u001b[0;34m,\u001b[0m\u001b[0;34m:\u001b[0m\u001b[0;34m]\u001b[0m\u001b[0;34m\u001b[0m\u001b[0;34m\u001b[0m\u001b[0m\n\u001b[0;32m---> 28\u001b[0;31m \u001b[0mX_val_augmented\u001b[0m \u001b[0;34m=\u001b[0m \u001b[0mX_augmented\u001b[0m\u001b[0;34m[\u001b[0m\u001b[0mval_idx\u001b[0m\u001b[0;34m,\u001b[0m\u001b[0;34m:\u001b[0m\u001b[0;34m]\u001b[0m\u001b[0;34m\u001b[0m\u001b[0;34m\u001b[0m\u001b[0m\n\u001b[0m\u001b[1;32m     29\u001b[0m \u001b[0mX_test_augmented\u001b[0m \u001b[0;34m=\u001b[0m \u001b[0mX_augmented\u001b[0m\u001b[0;34m[\u001b[0m\u001b[0mtest_idx\u001b[0m\u001b[0;34m,\u001b[0m\u001b[0;34m:\u001b[0m\u001b[0;34m]\u001b[0m\u001b[0;34m\u001b[0m\u001b[0;34m\u001b[0m\u001b[0m\n\u001b[1;32m     30\u001b[0m \u001b[0;34m\u001b[0m\u001b[0m\n",
            "\u001b[0;31mRuntimeError\u001b[0m: CUDA error: device-side assert triggered\nCUDA kernel errors might be asynchronously reported at some other API call, so the stacktrace below might be incorrect.\nFor debugging consider passing CUDA_LAUNCH_BLOCKING=1\nCompile with `TORCH_USE_CUDA_DSA` to enable device-side assertions.\n"
          ]
        }
      ]
    },
    {
      "cell_type": "markdown",
      "metadata": {
        "id": "ts8TO6f7qCWW"
      },
      "source": [
        "Does it seem to improve the performance? Credit here will just be for assessing this (for at least one random initalization), not for actually improving performance (because different initializations have a substantial effect). [1 point]"
      ]
    },
    {
      "cell_type": "code",
      "source": [
        "dnn1 = DNN([X.shape[1], 16, 1], device = device, requires_grad=False)\n",
        "losses,val_losses = dnn1.gradient_descent(X_train_augmented,\n",
        "                                         y_train_augmented[:,None],\n",
        "                                         torch.ones_like(y_train_augmented[:,None]),\n",
        "                                         X_val_augmented,\n",
        "                                         y_val_augmented[:,None],\n",
        "                                         torch.ones_like(y_val_augmented[:,None]))\n",
        "plt.plot(losses, label=\"train\")\n",
        "plt.plot(val_losses, label=\"val\")\n",
        "plt.legend()\n",
        "plt.xlabel(\"Iteration\")\n",
        "plt.ylabel(\"MSE Loss\")"
      ],
      "metadata": {
        "id": "eYQKnKQ8DllX"
      },
      "execution_count": null,
      "outputs": []
    },
    {
      "cell_type": "code",
      "source": [
        "test_loss,pred_test = dnn1.loss_and_gradient(X_test, y_test[:,None], torch.ones_like(y_test[:,None]))\n",
        "pred_test = pred_test.flatten() # remove spurious extra dimension\n",
        "R,p = scipy.stats.pearsonr(y_test.cpu(), pred_test.cpu())\n",
        "plt.scatter(pred_test.cpu(), y_test.cpu())\n",
        "plt.title(\"R^2=%f pvalue=%f\" % (R**2, p))\n",
        "plt.xlabel(\"Measured sensitivity\")\n",
        "plt.ylabel(\"Predicted sensitivity\")\n",
        "plt.show()"
      ],
      "metadata": {
        "id": "26E2SE-x_Bvy"
      },
      "execution_count": null,
      "outputs": []
    },
    {
      "cell_type": "markdown",
      "metadata": {
        "id": "juqiHS25q0hx"
      },
      "source": [
        "Yes. After expanding the sample size by adding small perturbations in X, the model was retrained. Its $r^2$ and $pvalue$ performance both became better, proving better predictions."
      ]
    },
    {
      "cell_type": "markdown",
      "metadata": {
        "id": "Db2hSgkNiwrJ"
      },
      "source": [
        "## Multitask prediction\n",
        "\n",
        "Neural networks naturally allow multitask prediction. We'll want to preprocess the data a little differentally for this, including cell lines where <50% of the IC50 values are missing and drugs where <40% is missing.\n",
        "\n",
        "First let's select the cell lines to keep:"
      ]
    },
    {
      "cell_type": "code",
      "metadata": {
        "id": "XMhKFoI-Qaaa"
      },
      "source": [
        "ic50_np = ic50.iloc[:,1:].to_numpy()\n",
        "miss = np.isnan(ic50_np)\n",
        "prop_miss_cell = miss.mean(1)\n",
        "cell_to_keep = prop_miss_cell < 0.5\n",
        "plt.hist(prop_miss_cell)\n",
        "plt.axvline(0.5, color = \"red\")\n",
        "cell_to_keep.sum()"
      ],
      "execution_count": null,
      "outputs": []
    },
    {
      "cell_type": "markdown",
      "metadata": {
        "id": "tKRuYLFeW_sx"
      },
      "source": [
        "905 cell lines are included. Now we'll select the drugs to keep:"
      ]
    },
    {
      "cell_type": "code",
      "metadata": {
        "id": "ndX9A_BsjLAV"
      },
      "source": [
        "prop_miss_drug = miss.mean(0)\n",
        "drug_to_keep = prop_miss_drug < 0.4\n",
        "plt.hist(prop_miss_drug)\n",
        "plt.axvline(0.4, color = \"red\")\n",
        "drug_to_keep.sum()"
      ],
      "execution_count": null,
      "outputs": []
    },
    {
      "cell_type": "markdown",
      "metadata": {
        "id": "chGKlyrNXDRo"
      },
      "source": [
        "217 drugs are included. We'll normalize the data as before, also keeping track of which elements of `y` are missing through `obs_weight` (1=not missing, 0=missing)."
      ]
    },
    {
      "cell_type": "code",
      "metadata": {
        "id": "4hSbh-iSjL2Z"
      },
      "source": [
        "y_all = ic50_np[np.ix_(cell_to_keep, drug_to_keep)]\n",
        "obs_weight = torch.tensor(~np.isnan(y_all), device = device, dtype = torch.float) # nan values = missing\n",
        "y_all[np.isnan(y_all)]=0. # set to 0 since these points will be ignored anyway by the masking\n",
        "y_unnorm = torch.tensor(y_all, device = device, dtype = torch.float)\n",
        "y_mt = (y_unnorm - y_unnorm.mean(0, keepdims=True)) / y_unnorm.std(0, keepdims=True) # normalize\n",
        "\n",
        "X_unnorm = torch.tensor(X_all[cell_to_keep,:], device = device, dtype = torch.float)\n",
        "X_mt = (X_unnorm - X_unnorm.mean(0, keepdims=True)) / X_unnorm.std(0, keepdims=True)"
      ],
      "execution_count": null,
      "outputs": []
    },
    {
      "cell_type": "markdown",
      "metadata": {
        "id": "Z73TGSE8l8oc"
      },
      "source": [
        "Train, test & validation split again:  "
      ]
    },
    {
      "cell_type": "code",
      "metadata": {
        "id": "BlqlOY9WmAAL"
      },
      "source": [
        "N = y_mt.shape[0]\n",
        "\n",
        "np.random.seed(1) # for reproducibility\n",
        "rand_perm = np.random.permutation(N)\n",
        "train_idx = rand_perm[:int(np.ceil(0.8 * N))]\n",
        "val_idx = rand_perm[int(np.ceil(0.8 * N)):int(np.ceil(0.9 * N))]\n",
        "test_idx = rand_perm[int(np.ceil(0.9 * N)):]\n",
        "\n",
        "X_mt_train = X_mt[train_idx,:]\n",
        "X_mt_val = X_mt[val_idx,:]\n",
        "X_mt_test = X_mt[test_idx,:]\n",
        "\n",
        "y_mt_train = y_mt[train_idx,:]\n",
        "y_mt_val = y_mt[val_idx,:]\n",
        "y_mt_test = y_mt[test_idx,:]\n",
        "\n",
        "obs_weight_train = obs_weight[train_idx,:]\n",
        "obs_weight_val = obs_weight[val_idx,:]\n",
        "obs_weight_test = obs_weight[test_idx,:]"
      ],
      "execution_count": null,
      "outputs": []
    },
    {
      "cell_type": "markdown",
      "metadata": {
        "id": "qPfUkoDjXVfC"
      },
      "source": [
        "Let's try training with 64 hidden units. Here we're training one model that outputs predictions for every drug, so we want y_mt.shape[1]==217 output dimensions."
      ]
    },
    {
      "cell_type": "code",
      "metadata": {
        "id": "qWuShdyHmKkc"
      },
      "source": [
        "dnn_mt = DNN([X_mt.shape[1], 64, y_mt.shape[1]], device = device, requires_grad=False)\n",
        "losses,val_losses = dnn_mt.gradient_descent(X_mt_train,\n",
        "                                         y_mt_train,\n",
        "                                         obs_weight_train,\n",
        "                                         X_mt_val,\n",
        "                                         y_mt_val,\n",
        "                                         obs_weight_val,\n",
        "                                         iterations = 1000)\n",
        "plt.plot(losses, label=\"train\")\n",
        "plt.plot(val_losses, label=\"val\")\n",
        "plt.legend()\n",
        "plt.xlabel(\"Iteration\")\n",
        "plt.ylabel(\"MSE Loss\")\n",
        "min(val_losses)"
      ],
      "execution_count": null,
      "outputs": []
    },
    {
      "cell_type": "markdown",
      "metadata": {
        "id": "1ZQyuDNoYJhH"
      },
      "source": [
        "Let's get the test set MSE as well:"
      ]
    },
    {
      "cell_type": "code",
      "metadata": {
        "id": "W8VYUPdkYN_w"
      },
      "source": [
        "test_loss,_ = dnn_mt.loss_and_gradient(X_mt_test, y_mt_test, obs_weight_test)\n",
        "test_loss.item()"
      ],
      "execution_count": null,
      "outputs": []
    },
    {
      "cell_type": "markdown",
      "metadata": {
        "id": "vRBVKVpcXtk-"
      },
      "source": [
        "How does this do compare to two hidden layers with 32 units each?"
      ]
    },
    {
      "cell_type": "code",
      "metadata": {
        "id": "ZAK5YKUyHefA"
      },
      "source": [
        "dnn_mt_2 = DNN([X_mt.shape[1], 32, 32, y_mt.shape[1]], device = device, requires_grad=False)\n",
        "losses,val_losses = dnn_mt_2.gradient_descent(X_mt_train,\n",
        "                                         y_mt_train,\n",
        "                                         obs_weight_train,\n",
        "                                         X_mt_val,\n",
        "                                         y_mt_val,\n",
        "                                         obs_weight_val,\n",
        "                                         iterations = 1000)\n",
        "plt.plot(losses, label=\"train\")\n",
        "plt.plot(val_losses, label=\"val\")\n",
        "plt.legend()\n",
        "plt.xlabel(\"Iteration\")\n",
        "plt.ylabel(\"MSE Loss\")\n",
        "min(val_losses)"
      ],
      "execution_count": null,
      "outputs": []
    },
    {
      "cell_type": "code",
      "metadata": {
        "id": "VbL6YarTX8K8"
      },
      "source": [
        "test_loss,_ = dnn_mt_2.loss_and_gradient(X_mt_test, y_mt_test, obs_weight_test)\n",
        "test_loss.item()"
      ],
      "execution_count": null,
      "outputs": []
    },
    {
      "cell_type": "markdown",
      "metadata": {
        "id": "JCYLS_oFYmwf"
      },
      "source": [
        "The two layer model tends to do better than the wider one layer model.\n",
        "\n",
        "*Try playing with the depth and width of the network to get the best performance you can. Write up your findings including plotting performance vs depth or performance vs width* [4 points].\n"
      ]
    },
    {
      "cell_type": "code",
      "source": [
        "dnn_mt_3 = DNN1([X_mt.shape[1], 64, 32, 16, 8, 4, 1, y_mt.shape[1]], device = device, requires_grad=False)\n",
        "losses,val_losses = dnn_mt_3.gradient_descent(X_mt_train,\n",
        "                                         y_mt_train,\n",
        "                                         obs_weight_train,\n",
        "                                         X_mt_val,\n",
        "                                         y_mt_val,\n",
        "                                         obs_weight_val,\n",
        "                                         iterations = 1000)\n",
        "plt.plot(losses, label=\"train\")\n",
        "plt.plot(val_losses, label=\"val\")\n",
        "plt.legend()\n",
        "plt.xlabel(\"Iteration\")\n",
        "plt.ylabel(\"MSE Loss\")\n",
        "print(min(val_losses))\n",
        "test_loss,_ = dnn_mt_3.loss_and_gradient(X_mt_test, y_mt_test, obs_weight_test)\n",
        "print(test_loss.item())"
      ],
      "metadata": {
        "id": "ooHa798hZ2rC"
      },
      "execution_count": null,
      "outputs": []
    },
    {
      "cell_type": "markdown",
      "source": [
        "\n",
        "## Extra exercises\n",
        "\n",
        "1.   At this modest data scale it would be better to do (e.g. 10-fold) [cross-validation](https://en.wikipedia.org/wiki/Cross-validation_(statistics)), with a final held-out test set. Implement this for the L1 regularized regression: do you get similar optimal lambda as with the single validation hold out? [2 points extra credit]\n",
        "\n",
        "\n"
      ],
      "metadata": {
        "id": "9UM_VgPIZ2Ir"
      }
    },
    {
      "cell_type": "code",
      "source": [
        "from sklearn.model_selection import KFold\n",
        "\n",
        "def cross_validate_lasso(X, y, lambdas, k_folds=10, learning_rate=0.001, iterations=100):\n",
        "    kf = KFold(n_splits=k_folds, shuffle=True, random_state=42)\n",
        "    avg_losses_per_lambda = []\n",
        "\n",
        "    for lamb in lambdas:\n",
        "        fold_losses = []\n",
        "        for train_idx, val_idx in kf.split(X):\n",
        "\n",
        "            X_train_fold = X[train_idx]\n",
        "            y_train_fold = y[train_idx]\n",
        "            X_val_fold = X[val_idx]\n",
        "            y_val_fold = y[val_idx]\n",
        "\n",
        "            beta, _ = fit_lasso(X_train_fold, y_train_fold, learning_rate, lamb, iterations)\n",
        "\n",
        "            err = y_val_fold - X_val_fold @ beta\n",
        "            val_loss = .5 * (err * err).mean().item()\n",
        "            fold_losses.append(val_loss)\n",
        "\n",
        "        avg_loss = np.mean(fold_losses)\n",
        "        avg_losses_per_lambda.append(avg_loss)\n",
        "        print(f\"Lambda {lamb}: Average validation loss = {avg_loss}\")\n",
        "\n",
        "    best_lambda = lambdas[np.argmin(avg_losses_per_lambda)]\n",
        "    print(f\"Best lambda from cross-validation: {best_lambda}\")\n",
        "\n",
        "    return best_lambda, avg_losses_per_lambda\n",
        "\n",
        "lambdas = 10.**torch.arange(-4,0,step=0.05,dtype=torch.float)\n",
        "\n",
        "best_lambda, losses = cross_validate_lasso(X_train, y_train, lambdas, k_folds=10, learning_rate=0.001, iterations=1000)"
      ],
      "metadata": {
        "id": "Yk5dhloOg2Qr"
      },
      "execution_count": null,
      "outputs": []
    },
    {
      "cell_type": "markdown",
      "source": [
        "When the values of lambdas are taken more sparsely, I get similar optimal lambda as with the single validation hold out. When its values are denser, the best results are different, but still within an order of magnitude of difference."
      ],
      "metadata": {
        "id": "zFLCvlGkg6Eb"
      }
    },
    {
      "cell_type": "markdown",
      "source": [
        "2.   Is multitask prediction better than single-task? Fit a per drug model for each drug (i.e. 217 different models each with one output only) using the same train/validation/ test split as for the multitask training and compare the performance in terms of MSE loss. (if this is too slow to train you can try on just a subset of 20 of the drugs). [2 points extra credit]"
      ],
      "metadata": {
        "id": "v4OqkCyYaNWV"
      }
    },
    {
      "cell_type": "code",
      "source": [
        "from sklearn.metrics import mean_squared_error\n",
        "\n",
        "def create_dnn(input_size, hidden_size, output_size, device):\n",
        "    return DNN1([input_size, hidden_size, output_size], device=device, requires_grad=False)\n",
        "\n",
        "mse_per_drug_train = []\n",
        "mse_per_drug_val = []\n",
        "\n",
        "num_drugs = y_mt_train.shape[1]\n",
        "\n",
        "hidden_size = 64\n",
        "\n",
        "for drug_idx in range(num_drugs):\n",
        "    print(f\"Training DNN for drug {drug_idx+1}/{num_drugs}\")\n",
        "\n",
        "    y_train_single = y_mt_train[:, drug_idx].unsqueeze(1)  # 将形状改为 [N, 1]\n",
        "    y_val_single = y_mt_val[:, drug_idx].unsqueeze(1)\n",
        "\n",
        "    dnn_single = create_dnn(X_mt_train.shape[1], hidden_size, 1, device)\n",
        "\n",
        "    losses, val_losses = dnn_single.gradient_descent(\n",
        "        X_mt_train,\n",
        "        y_train_single,\n",
        "        obs_weight_train,\n",
        "        X_mt_val,\n",
        "        y_val_single,\n",
        "        obs_weight_val,\n",
        "        iterations=1000\n",
        "    )\n",
        "\n",
        "    mse_train = min(losses)\n",
        "    mse_val = min(val_losses)\n",
        "\n",
        "    mse_per_drug_train.append(mse_train)\n",
        "    mse_per_drug_val.append(mse_val)\n",
        "\n",
        "    print(f\"Drug {drug_idx+1}: Train MSE = {mse_train}, Val MSE = {mse_val}\")\n",
        "\n",
        "print(f\"Average Train MSE for all drugs: {sum(mse_per_drug_train)/num_drugs}\")\n",
        "print(f\"Average Val MSE for all drugs: {sum(mse_per_drug_val)/num_drugs}\")\n"
      ],
      "metadata": {
        "id": "qr0diJXZmpqb"
      },
      "execution_count": null,
      "outputs": []
    },
    {
      "cell_type": "markdown",
      "source": [
        "As far as the results of the training I performed are concerned, the average MSE of the predictions of the single-task model is lower than the total MSE of the multi-task model compared to the model with the same depth and width. This may indicate that different drugs act independently on different cell lines."
      ],
      "metadata": {
        "id": "2dqgJa3Mnkq1"
      }
    }
  ]
}